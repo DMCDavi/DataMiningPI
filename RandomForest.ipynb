{
 "cells": [
  {
   "cell_type": "code",
   "execution_count": 79,
   "id": "ab882858",
   "metadata": {},
   "outputs": [],
   "source": [
    "import pandas as pd\n",
    "import seaborn as sns\n",
    "import matplotlib.pyplot as plt\n",
    "import numpy as np\n",
    "from sklearn.ensemble import RandomForestClassifier\n",
    "from sklearn.metrics import accuracy_score, confusion_matrix, classification_report, mean_squared_error, roc_auc_score\n",
    "from sklearn.model_selection import train_test_split\n",
    "from sklearn.tree import plot_tree"
   ]
  },
  {
   "cell_type": "code",
   "execution_count": 2,
   "id": "540c2122",
   "metadata": {},
   "outputs": [],
   "source": [
    "pd.set_option('display.max_rows', 1000)\n",
    "pd.set_option('display.max_columns', 500)"
   ]
  },
  {
   "cell_type": "code",
   "execution_count": 3,
   "id": "d1954936",
   "metadata": {},
   "outputs": [
    {
     "data": {
      "text/plain": [
       "(454432, 20)"
      ]
     },
     "execution_count": 3,
     "metadata": {},
     "output_type": "execute_result"
    }
   ],
   "source": [
    "df_2020 = pd.read_csv('../../dobrano_2020_pre_preprocessado.csv', sep=';', low_memory=False, encoding='latin1')\n",
    "df_2020.shape"
   ]
  },
  {
   "cell_type": "code",
   "execution_count": 4,
   "id": "db2fa974",
   "metadata": {
    "scrolled": true
   },
   "outputs": [
    {
     "data": {
      "text/html": [
       "<div>\n",
       "<style scoped>\n",
       "    .dataframe tbody tr th:only-of-type {\n",
       "        vertical-align: middle;\n",
       "    }\n",
       "\n",
       "    .dataframe tbody tr th {\n",
       "        vertical-align: top;\n",
       "    }\n",
       "\n",
       "    .dataframe thead th {\n",
       "        text-align: right;\n",
       "    }\n",
       "</style>\n",
       "<table border=\"1\" class=\"dataframe\">\n",
       "  <thead>\n",
       "    <tr style=\"text-align: right;\">\n",
       "      <th></th>\n",
       "      <th>idade</th>\n",
       "      <th>sexo</th>\n",
       "      <th>raca_cor</th>\n",
       "      <th>escolaridade</th>\n",
       "      <th>local_ocorrencia</th>\n",
       "      <th>codmunocor</th>\n",
       "      <th>teve_assistencia_medica</th>\n",
       "      <th>dia_nasc</th>\n",
       "      <th>mes_nasc</th>\n",
       "      <th>ano_nasc</th>\n",
       "      <th>dia_obito</th>\n",
       "      <th>mes_obito</th>\n",
       "      <th>ano_obito</th>\n",
       "      <th>faixa_etaria</th>\n",
       "      <th>estado</th>\n",
       "      <th>codigo_estado</th>\n",
       "      <th>categoria_causa_basica</th>\n",
       "      <th>capitulo_causa_basica</th>\n",
       "      <th>grupo_ocupacao</th>\n",
       "      <th>codigo_grupo_ocupacao</th>\n",
       "    </tr>\n",
       "  </thead>\n",
       "  <tbody>\n",
       "    <tr>\n",
       "      <th>0</th>\n",
       "      <td>68</td>\n",
       "      <td>M</td>\n",
       "      <td>BRANCA</td>\n",
       "      <td>EF_I</td>\n",
       "      <td>DOMICILIO</td>\n",
       "      <td>316930</td>\n",
       "      <td>NAO</td>\n",
       "      <td>10</td>\n",
       "      <td>5.0</td>\n",
       "      <td>1951.0</td>\n",
       "      <td>25</td>\n",
       "      <td>1</td>\n",
       "      <td>2020</td>\n",
       "      <td>(65, 70]</td>\n",
       "      <td>MG</td>\n",
       "      <td>31</td>\n",
       "      <td>Sint sinais e achad anorm ex clín e laborat</td>\n",
       "      <td>18.0</td>\n",
       "      <td>TRABALHADORES EM SERVIÇOS DE REPARAÇÃO E MANUT...</td>\n",
       "      <td>9.0</td>\n",
       "    </tr>\n",
       "    <tr>\n",
       "      <th>1</th>\n",
       "      <td>53</td>\n",
       "      <td>M</td>\n",
       "      <td>PRETA</td>\n",
       "      <td>EF_I</td>\n",
       "      <td>DOMICILIO</td>\n",
       "      <td>316930</td>\n",
       "      <td>NAO</td>\n",
       "      <td>16</td>\n",
       "      <td>3.0</td>\n",
       "      <td>1966.0</td>\n",
       "      <td>25</td>\n",
       "      <td>1</td>\n",
       "      <td>2020</td>\n",
       "      <td>(50, 55]</td>\n",
       "      <td>MG</td>\n",
       "      <td>31</td>\n",
       "      <td>Sint sinais e achad anorm ex clín e laborat</td>\n",
       "      <td>18.0</td>\n",
       "      <td>TRABALHADORES AGROPECUÁRIOS, FLORESTAIS E DA P...</td>\n",
       "      <td>6.0</td>\n",
       "    </tr>\n",
       "    <tr>\n",
       "      <th>2</th>\n",
       "      <td>82</td>\n",
       "      <td>F</td>\n",
       "      <td>BRANCA</td>\n",
       "      <td>EF_I</td>\n",
       "      <td>HOSPITAL</td>\n",
       "      <td>316930</td>\n",
       "      <td>NaN</td>\n",
       "      <td>10</td>\n",
       "      <td>7.0</td>\n",
       "      <td>1937.0</td>\n",
       "      <td>14</td>\n",
       "      <td>1</td>\n",
       "      <td>2020</td>\n",
       "      <td>(80, 85]</td>\n",
       "      <td>MG</td>\n",
       "      <td>31</td>\n",
       "      <td>Doenças do aparelho digestivo</td>\n",
       "      <td>11.0</td>\n",
       "      <td>TRABALHADORES EM SERVIÇOS DE REPARAÇÃO E MANUT...</td>\n",
       "      <td>9.0</td>\n",
       "    </tr>\n",
       "    <tr>\n",
       "      <th>3</th>\n",
       "      <td>73</td>\n",
       "      <td>F</td>\n",
       "      <td>BRANCA</td>\n",
       "      <td>EF_I</td>\n",
       "      <td>HOSPITAL</td>\n",
       "      <td>316930</td>\n",
       "      <td>SIM</td>\n",
       "      <td>2</td>\n",
       "      <td>11.0</td>\n",
       "      <td>1946.0</td>\n",
       "      <td>20</td>\n",
       "      <td>1</td>\n",
       "      <td>2020</td>\n",
       "      <td>(70, 75]</td>\n",
       "      <td>MG</td>\n",
       "      <td>31</td>\n",
       "      <td>Doenças do aparelho respiratório</td>\n",
       "      <td>10.0</td>\n",
       "      <td>TRABALHADORES EM SERVIÇOS DE REPARAÇÃO E MANUT...</td>\n",
       "      <td>9.0</td>\n",
       "    </tr>\n",
       "    <tr>\n",
       "      <th>4</th>\n",
       "      <td>60</td>\n",
       "      <td>M</td>\n",
       "      <td>BRANCA</td>\n",
       "      <td>SUPERIOR_C</td>\n",
       "      <td>HOSPITAL</td>\n",
       "      <td>316930</td>\n",
       "      <td>SIM</td>\n",
       "      <td>12</td>\n",
       "      <td>9.0</td>\n",
       "      <td>1959.0</td>\n",
       "      <td>26</td>\n",
       "      <td>1</td>\n",
       "      <td>2020</td>\n",
       "      <td>(55, 60]</td>\n",
       "      <td>MG</td>\n",
       "      <td>31</td>\n",
       "      <td>Algumas doenças infecciosas e parasitárias</td>\n",
       "      <td>1.0</td>\n",
       "      <td>PROFISSIONAIS DAS CIÊNCIAS E DAS ARTES        ...</td>\n",
       "      <td>2.0</td>\n",
       "    </tr>\n",
       "  </tbody>\n",
       "</table>\n",
       "</div>"
      ],
      "text/plain": [
       "   idade sexo raca_cor escolaridade local_ocorrencia  codmunocor  \\\n",
       "0     68    M   BRANCA         EF_I        DOMICILIO      316930   \n",
       "1     53    M    PRETA         EF_I        DOMICILIO      316930   \n",
       "2     82    F   BRANCA         EF_I         HOSPITAL      316930   \n",
       "3     73    F   BRANCA         EF_I         HOSPITAL      316930   \n",
       "4     60    M   BRANCA   SUPERIOR_C         HOSPITAL      316930   \n",
       "\n",
       "  teve_assistencia_medica  dia_nasc  mes_nasc  ano_nasc  dia_obito  mes_obito  \\\n",
       "0                     NAO        10       5.0    1951.0         25          1   \n",
       "1                     NAO        16       3.0    1966.0         25          1   \n",
       "2                     NaN        10       7.0    1937.0         14          1   \n",
       "3                     SIM         2      11.0    1946.0         20          1   \n",
       "4                     SIM        12       9.0    1959.0         26          1   \n",
       "\n",
       "   ano_obito faixa_etaria estado  codigo_estado  \\\n",
       "0       2020     (65, 70]     MG             31   \n",
       "1       2020     (50, 55]     MG             31   \n",
       "2       2020     (80, 85]     MG             31   \n",
       "3       2020     (70, 75]     MG             31   \n",
       "4       2020     (55, 60]     MG             31   \n",
       "\n",
       "                        categoria_causa_basica  capitulo_causa_basica  \\\n",
       "0  Sint sinais e achad anorm ex clín e laborat                   18.0   \n",
       "1  Sint sinais e achad anorm ex clín e laborat                   18.0   \n",
       "2                Doenças do aparelho digestivo                   11.0   \n",
       "3             Doenças do aparelho respiratório                   10.0   \n",
       "4   Algumas doenças infecciosas e parasitárias                    1.0   \n",
       "\n",
       "                                      grupo_ocupacao  codigo_grupo_ocupacao  \n",
       "0  TRABALHADORES EM SERVIÇOS DE REPARAÇÃO E MANUT...                    9.0  \n",
       "1  TRABALHADORES AGROPECUÁRIOS, FLORESTAIS E DA P...                    6.0  \n",
       "2  TRABALHADORES EM SERVIÇOS DE REPARAÇÃO E MANUT...                    9.0  \n",
       "3  TRABALHADORES EM SERVIÇOS DE REPARAÇÃO E MANUT...                    9.0  \n",
       "4  PROFISSIONAIS DAS CIÊNCIAS E DAS ARTES        ...                    2.0  "
      ]
     },
     "execution_count": 4,
     "metadata": {},
     "output_type": "execute_result"
    }
   ],
   "source": [
    "df_2020.head()"
   ]
  },
  {
   "cell_type": "code",
   "execution_count": 5,
   "id": "6274d150",
   "metadata": {},
   "outputs": [],
   "source": [
    "df = df_2020[:1000]"
   ]
  },
  {
   "cell_type": "markdown",
   "id": "47674d3b",
   "metadata": {},
   "source": [
    "#### DELETANDO COLUNAS QUE NÃO SERÃO USADAS"
   ]
  },
  {
   "cell_type": "code",
   "execution_count": 6,
   "id": "78960ce9",
   "metadata": {},
   "outputs": [],
   "source": [
    "df = df.drop(columns=['idade', 'codmunocor', 'dia_nasc', 'mes_nasc', 'dia_obito', 'ano_obito', 'estado', \n",
    "                      'categoria_causa_basica', 'grupo_ocupacao'])"
   ]
  },
  {
   "cell_type": "code",
   "execution_count": 13,
   "id": "3582eff2",
   "metadata": {
    "scrolled": true
   },
   "outputs": [
    {
     "data": {
      "text/plain": [
       "sexo                         0\n",
       "raca_cor                    57\n",
       "escolaridade               127\n",
       "local_ocorrencia             0\n",
       "teve_assistencia_medica    302\n",
       "ano_nasc                    22\n",
       "mes_obito                    0\n",
       "faixa_etaria                47\n",
       "codigo_estado                0\n",
       "capitulo_causa_basica        0\n",
       "codigo_grupo_ocupacao        0\n",
       "dtype: int64"
      ]
     },
     "execution_count": 13,
     "metadata": {},
     "output_type": "execute_result"
    }
   ],
   "source": [
    "df.isnull().sum()"
   ]
  },
  {
   "cell_type": "code",
   "execution_count": 10,
   "id": "ee1526b1",
   "metadata": {},
   "outputs": [],
   "source": [
    "df['codigo_grupo_ocupacao'] = df.codigo_grupo_ocupacao.fillna(10)"
   ]
  },
  {
   "cell_type": "code",
   "execution_count": 12,
   "id": "4440bec2",
   "metadata": {},
   "outputs": [],
   "source": [
    "df = df.loc[df['capitulo_causa_basica'].notnull()]"
   ]
  },
  {
   "cell_type": "markdown",
   "id": "0d9bfd53",
   "metadata": {},
   "source": [
    "#### TRANSFORMANDO DADOS EM NUMÉRICOS"
   ]
  },
  {
   "cell_type": "code",
   "execution_count": 14,
   "id": "ac3a283d",
   "metadata": {},
   "outputs": [],
   "source": [
    "df['raca_cor'] = df['raca_cor'].replace(['BRANCA', 'PRETA', 'AMARELA', 'PARDA', 'INDIGENA'], [1, 2, 3, 4, 5])"
   ]
  },
  {
   "cell_type": "code",
   "execution_count": 15,
   "id": "099c82c2",
   "metadata": {},
   "outputs": [],
   "source": [
    "df['escolaridade'] = df['escolaridade'].replace(\n",
    "                                          ['SEM', 'EF_I', 'EF_II', 'EM', 'SUPERIOR_I', 'SUPERIOR_C', 'I'],\n",
    "                                        [0, 1, 2, 3, 4, 5, 9]\n",
    "                                         )"
   ]
  },
  {
   "cell_type": "code",
   "execution_count": 16,
   "id": "ad347e7d",
   "metadata": {},
   "outputs": [],
   "source": [
    "df['local_ocorrencia'] = df['local_ocorrencia'].replace(['HOSPITAL', 'OES', 'DOMICILIO', 'VIAP', 'OUTROS', 'I'],\n",
    "                                            [1, 2, 3, 4, 5, 9]\n",
    "                                         )"
   ]
  },
  {
   "cell_type": "code",
   "execution_count": 17,
   "id": "e9dd775b",
   "metadata": {},
   "outputs": [],
   "source": [
    "df['teve_assistencia_medica'] = df['teve_assistencia_medica'].replace(['SIM', 'NAO', 'I'], [1, 2, 9]\n",
    "                                             )"
   ]
  },
  {
   "cell_type": "code",
   "execution_count": 18,
   "id": "3b87154f",
   "metadata": {},
   "outputs": [],
   "source": [
    "df['sexo'] = df['sexo'].replace(['M', 'F', 'I'], [1, 2, 0]) "
   ]
  },
  {
   "cell_type": "code",
   "execution_count": 19,
   "id": "5d1522b5",
   "metadata": {},
   "outputs": [
    {
     "data": {
      "text/html": [
       "<div>\n",
       "<style scoped>\n",
       "    .dataframe tbody tr th:only-of-type {\n",
       "        vertical-align: middle;\n",
       "    }\n",
       "\n",
       "    .dataframe tbody tr th {\n",
       "        vertical-align: top;\n",
       "    }\n",
       "\n",
       "    .dataframe thead th {\n",
       "        text-align: right;\n",
       "    }\n",
       "</style>\n",
       "<table border=\"1\" class=\"dataframe\">\n",
       "  <thead>\n",
       "    <tr style=\"text-align: right;\">\n",
       "      <th></th>\n",
       "      <th>sexo</th>\n",
       "      <th>raca_cor</th>\n",
       "      <th>escolaridade</th>\n",
       "      <th>local_ocorrencia</th>\n",
       "      <th>teve_assistencia_medica</th>\n",
       "      <th>ano_nasc</th>\n",
       "      <th>mes_obito</th>\n",
       "      <th>faixa_etaria</th>\n",
       "      <th>codigo_estado</th>\n",
       "      <th>capitulo_causa_basica</th>\n",
       "      <th>codigo_grupo_ocupacao</th>\n",
       "    </tr>\n",
       "  </thead>\n",
       "  <tbody>\n",
       "    <tr>\n",
       "      <th>0</th>\n",
       "      <td>1</td>\n",
       "      <td>1.0</td>\n",
       "      <td>1.0</td>\n",
       "      <td>3</td>\n",
       "      <td>2.0</td>\n",
       "      <td>1951.0</td>\n",
       "      <td>1</td>\n",
       "      <td>(65, 70]</td>\n",
       "      <td>31</td>\n",
       "      <td>18.0</td>\n",
       "      <td>9.0</td>\n",
       "    </tr>\n",
       "    <tr>\n",
       "      <th>1</th>\n",
       "      <td>1</td>\n",
       "      <td>2.0</td>\n",
       "      <td>1.0</td>\n",
       "      <td>3</td>\n",
       "      <td>2.0</td>\n",
       "      <td>1966.0</td>\n",
       "      <td>1</td>\n",
       "      <td>(50, 55]</td>\n",
       "      <td>31</td>\n",
       "      <td>18.0</td>\n",
       "      <td>6.0</td>\n",
       "    </tr>\n",
       "    <tr>\n",
       "      <th>2</th>\n",
       "      <td>2</td>\n",
       "      <td>1.0</td>\n",
       "      <td>1.0</td>\n",
       "      <td>1</td>\n",
       "      <td>NaN</td>\n",
       "      <td>1937.0</td>\n",
       "      <td>1</td>\n",
       "      <td>(80, 85]</td>\n",
       "      <td>31</td>\n",
       "      <td>11.0</td>\n",
       "      <td>9.0</td>\n",
       "    </tr>\n",
       "    <tr>\n",
       "      <th>3</th>\n",
       "      <td>2</td>\n",
       "      <td>1.0</td>\n",
       "      <td>1.0</td>\n",
       "      <td>1</td>\n",
       "      <td>1.0</td>\n",
       "      <td>1946.0</td>\n",
       "      <td>1</td>\n",
       "      <td>(70, 75]</td>\n",
       "      <td>31</td>\n",
       "      <td>10.0</td>\n",
       "      <td>9.0</td>\n",
       "    </tr>\n",
       "    <tr>\n",
       "      <th>4</th>\n",
       "      <td>1</td>\n",
       "      <td>1.0</td>\n",
       "      <td>5.0</td>\n",
       "      <td>1</td>\n",
       "      <td>1.0</td>\n",
       "      <td>1959.0</td>\n",
       "      <td>1</td>\n",
       "      <td>(55, 60]</td>\n",
       "      <td>31</td>\n",
       "      <td>1.0</td>\n",
       "      <td>2.0</td>\n",
       "    </tr>\n",
       "    <tr>\n",
       "      <th>5</th>\n",
       "      <td>1</td>\n",
       "      <td>4.0</td>\n",
       "      <td>1.0</td>\n",
       "      <td>1</td>\n",
       "      <td>1.0</td>\n",
       "      <td>1964.0</td>\n",
       "      <td>1</td>\n",
       "      <td>(50, 55]</td>\n",
       "      <td>31</td>\n",
       "      <td>10.0</td>\n",
       "      <td>7.0</td>\n",
       "    </tr>\n",
       "    <tr>\n",
       "      <th>6</th>\n",
       "      <td>2</td>\n",
       "      <td>4.0</td>\n",
       "      <td>1.0</td>\n",
       "      <td>3</td>\n",
       "      <td>NaN</td>\n",
       "      <td>1973.0</td>\n",
       "      <td>1</td>\n",
       "      <td>(45, 50]</td>\n",
       "      <td>23</td>\n",
       "      <td>2.0</td>\n",
       "      <td>6.0</td>\n",
       "    </tr>\n",
       "    <tr>\n",
       "      <th>7</th>\n",
       "      <td>1</td>\n",
       "      <td>1.0</td>\n",
       "      <td>5.0</td>\n",
       "      <td>4</td>\n",
       "      <td>2.0</td>\n",
       "      <td>1974.0</td>\n",
       "      <td>1</td>\n",
       "      <td>(40, 45]</td>\n",
       "      <td>51</td>\n",
       "      <td>18.0</td>\n",
       "      <td>10.0</td>\n",
       "    </tr>\n",
       "  </tbody>\n",
       "</table>\n",
       "</div>"
      ],
      "text/plain": [
       "   sexo  raca_cor  escolaridade  local_ocorrencia  teve_assistencia_medica  \\\n",
       "0     1       1.0           1.0                 3                      2.0   \n",
       "1     1       2.0           1.0                 3                      2.0   \n",
       "2     2       1.0           1.0                 1                      NaN   \n",
       "3     2       1.0           1.0                 1                      1.0   \n",
       "4     1       1.0           5.0                 1                      1.0   \n",
       "5     1       4.0           1.0                 1                      1.0   \n",
       "6     2       4.0           1.0                 3                      NaN   \n",
       "7     1       1.0           5.0                 4                      2.0   \n",
       "\n",
       "   ano_nasc  mes_obito faixa_etaria  codigo_estado  capitulo_causa_basica  \\\n",
       "0    1951.0          1     (65, 70]             31                   18.0   \n",
       "1    1966.0          1     (50, 55]             31                   18.0   \n",
       "2    1937.0          1     (80, 85]             31                   11.0   \n",
       "3    1946.0          1     (70, 75]             31                   10.0   \n",
       "4    1959.0          1     (55, 60]             31                    1.0   \n",
       "5    1964.0          1     (50, 55]             31                   10.0   \n",
       "6    1973.0          1     (45, 50]             23                    2.0   \n",
       "7    1974.0          1     (40, 45]             51                   18.0   \n",
       "\n",
       "   codigo_grupo_ocupacao  \n",
       "0                    9.0  \n",
       "1                    6.0  \n",
       "2                    9.0  \n",
       "3                    9.0  \n",
       "4                    2.0  \n",
       "5                    7.0  \n",
       "6                    6.0  \n",
       "7                   10.0  "
      ]
     },
     "execution_count": 19,
     "metadata": {},
     "output_type": "execute_result"
    }
   ],
   "source": [
    "df.head(8)"
   ]
  },
  {
   "cell_type": "markdown",
   "id": "68756013",
   "metadata": {},
   "source": [
    "#### SEPRANDO DATASETS"
   ]
  },
  {
   "cell_type": "code",
   "execution_count": 31,
   "id": "092539af",
   "metadata": {},
   "outputs": [],
   "source": [
    "for i in df.columns:\n",
    "    df = df.loc[df[i].notnull()]"
   ]
  },
  {
   "cell_type": "code",
   "execution_count": 32,
   "id": "d5f2693d",
   "metadata": {},
   "outputs": [
    {
     "data": {
      "text/plain": [
       "sexo                       0\n",
       "raca_cor                   0\n",
       "escolaridade               0\n",
       "local_ocorrencia           0\n",
       "teve_assistencia_medica    0\n",
       "ano_nasc                   0\n",
       "mes_obito                  0\n",
       "faixa_etaria               0\n",
       "codigo_estado              0\n",
       "capitulo_causa_basica      0\n",
       "codigo_grupo_ocupacao      0\n",
       "dtype: int64"
      ]
     },
     "execution_count": 32,
     "metadata": {},
     "output_type": "execute_result"
    }
   ],
   "source": [
    "df.isnull().sum()"
   ]
  },
  {
   "cell_type": "code",
   "execution_count": 33,
   "id": "9c85bf16",
   "metadata": {},
   "outputs": [],
   "source": [
    "df['raca_cor'] = df['raca_cor'].astype('int') "
   ]
  },
  {
   "cell_type": "code",
   "execution_count": 34,
   "id": "1c2adf70",
   "metadata": {},
   "outputs": [],
   "source": [
    "df['escolaridade'] = df['escolaridade'].astype('int')"
   ]
  },
  {
   "cell_type": "code",
   "execution_count": 35,
   "id": "0c8b3864",
   "metadata": {},
   "outputs": [],
   "source": [
    "df['teve_assistencia_medica'] = df['teve_assistencia_medica'].astype('int')"
   ]
  },
  {
   "cell_type": "code",
   "execution_count": 36,
   "id": "5704a759",
   "metadata": {},
   "outputs": [],
   "source": [
    "df['capitulo_causa_basica'] = df['capitulo_causa_basica'].astype('int')"
   ]
  },
  {
   "cell_type": "code",
   "execution_count": 37,
   "id": "a7c36d0f",
   "metadata": {},
   "outputs": [],
   "source": [
    "df['codigo_grupo_ocupacao'] = df['codigo_grupo_ocupacao'].astype('int')"
   ]
  },
  {
   "cell_type": "code",
   "execution_count": 47,
   "id": "9f9fe2ec",
   "metadata": {},
   "outputs": [],
   "source": [
    "df = df.drop(columns='faixa_etaria')"
   ]
  },
  {
   "cell_type": "code",
   "execution_count": 48,
   "id": "3649a0b7",
   "metadata": {},
   "outputs": [],
   "source": [
    "y = df['capitulo_causa_basica']"
   ]
  },
  {
   "cell_type": "code",
   "execution_count": 49,
   "id": "77844b45",
   "metadata": {},
   "outputs": [
    {
     "data": {
      "text/plain": [
       "pandas.core.series.Series"
      ]
     },
     "execution_count": 49,
     "metadata": {},
     "output_type": "execute_result"
    }
   ],
   "source": [
    "type(y)"
   ]
  },
  {
   "cell_type": "code",
   "execution_count": 50,
   "id": "3f830308",
   "metadata": {},
   "outputs": [],
   "source": [
    "x = df.drop(columns=['capitulo_causa_basica'])"
   ]
  },
  {
   "cell_type": "code",
   "execution_count": 51,
   "id": "93171714",
   "metadata": {},
   "outputs": [],
   "source": [
    "x_train, x_test, y_train, y_test = train_test_split(x, y, test_size = 0.33, random_state = 42)"
   ]
  },
  {
   "cell_type": "code",
   "execution_count": 52,
   "id": "a84e65f3",
   "metadata": {},
   "outputs": [
    {
     "data": {
      "text/plain": [
       "(357, 9)"
      ]
     },
     "execution_count": 52,
     "metadata": {},
     "output_type": "execute_result"
    }
   ],
   "source": [
    "x_train.shape"
   ]
  },
  {
   "cell_type": "code",
   "execution_count": 53,
   "id": "ee377ae5",
   "metadata": {},
   "outputs": [
    {
     "data": {
      "text/plain": [
       "(176,)"
      ]
     },
     "execution_count": 53,
     "metadata": {},
     "output_type": "execute_result"
    }
   ],
   "source": [
    "y_test.shape"
   ]
  },
  {
   "cell_type": "code",
   "execution_count": 80,
   "id": "c00b46c9",
   "metadata": {},
   "outputs": [
    {
     "name": "stdout",
     "output_type": "stream",
     "text": [
      "5.557038943374593\n"
     ]
    },
    {
     "data": {
      "text/plain": [
       "0.3181818181818182"
      ]
     },
     "execution_count": 80,
     "metadata": {},
     "output_type": "execute_result"
    }
   ],
   "source": [
    "rf = RandomForestClassifier(n_estimators = 100, bootstrap = True,\n",
    "#                                max_features = 'sqrt',\n",
    "                            max_depth = 3, random_state = 42\n",
    "                           )\n",
    "\n",
    "rf.fit(x_train, y_train)\n",
    "\n",
    "preds = rf.predict(x_test)\n",
    "\n",
    "print(np.sqrt(mean_squared_error(y_test, preds)))\n",
    "\n",
    "score = accuracy_score(y_test, preds)\n",
    "\n",
    "score"
   ]
  },
  {
   "cell_type": "code",
   "execution_count": null,
   "id": "9cc6ddd5",
   "metadata": {},
   "outputs": [],
   "source": []
  },
  {
   "cell_type": "code",
   "execution_count": 81,
   "id": "0c58c311",
   "metadata": {},
   "outputs": [],
   "source": [
    "conf_mtrx = confusion_matrix(y_test, preds)"
   ]
  },
  {
   "cell_type": "code",
   "execution_count": 82,
   "id": "6557f4f2",
   "metadata": {},
   "outputs": [
    {
     "data": {
      "image/png": "[encoded data removed]",
      "text/plain": [
       "<Figure size 720x504 with 2 Axes>"
      ]
     },
     "metadata": {
      "needs_background": "light"
     },
     "output_type": "display_data"
    }
   ],
   "source": [
    "plt.figure(figsize = (10,7))\n",
    "matrix = sns.heatmap(conf_mtrx, annot=True, fmt=\".0f\", linewidths=.5, cmap=\"PiYG\") #Making a Heatmap out of the matrix\n",
    "plt.show()"
   ]
  },
  {
   "cell_type": "code",
   "execution_count": 83,
   "id": "731b160d",
   "metadata": {},
   "outputs": [
    {
     "name": "stderr",
     "output_type": "stream",
     "text": [
      "C:\\Users\\Acer\\anaconda3\\lib\\site-packages\\sklearn\\metrics\\_classification.py:1245: UndefinedMetricWarning: Precision and F-score are ill-defined and being set to 0.0 in labels with no predicted samples. Use `zero_division` parameter to control this behavior.\n",
      "  _warn_prf(average, modifier, msg_start, len(result))\n",
      "C:\\Users\\Acer\\anaconda3\\lib\\site-packages\\sklearn\\metrics\\_classification.py:1245: UndefinedMetricWarning: Precision and F-score are ill-defined and being set to 0.0 in labels with no predicted samples. Use `zero_division` parameter to control this behavior.\n",
      "  _warn_prf(average, modifier, msg_start, len(result))\n",
      "C:\\Users\\Acer\\anaconda3\\lib\\site-packages\\sklearn\\metrics\\_classification.py:1245: UndefinedMetricWarning: Precision and F-score are ill-defined and being set to 0.0 in labels with no predicted samples. Use `zero_division` parameter to control this behavior.\n",
      "  _warn_prf(average, modifier, msg_start, len(result))\n"
     ]
    }
   ],
   "source": [
    "class_report = classification_report(y_test, preds)"
   ]
  },
  {
   "cell_type": "code",
   "execution_count": 84,
   "id": "027503f1",
   "metadata": {},
   "outputs": [
    {
     "name": "stdout",
     "output_type": "stream",
     "text": [
      "              precision    recall  f1-score   support\n",
      "\n",
      "           1       0.38      0.66      0.48        47\n",
      "           2       0.00      0.00      0.00        21\n",
      "           4       0.00      0.00      0.00         7\n",
      "           5       0.00      0.00      0.00         3\n",
      "           6       0.00      0.00      0.00         9\n",
      "           9       0.25      0.52      0.34        42\n",
      "          10       0.00      0.00      0.00        24\n",
      "          11       0.00      0.00      0.00         9\n",
      "          12       0.00      0.00      0.00         1\n",
      "          14       0.00      0.00      0.00         7\n",
      "          18       0.50      0.50      0.50         6\n",
      "\n",
      "    accuracy                           0.32       176\n",
      "   macro avg       0.10      0.15      0.12       176\n",
      "weighted avg       0.18      0.32      0.23       176\n",
      "\n"
     ]
    }
   ],
   "source": [
    "print(class_report)"
   ]
  },
  {
   "cell_type": "code",
   "execution_count": 85,
   "id": "5a4148d0",
   "metadata": {},
   "outputs": [],
   "source": [
    "estimator = rf.estimators_[3]"
   ]
  },
  {
   "cell_type": "code",
   "execution_count": 86,
   "id": "00011357",
   "metadata": {},
   "outputs": [
    {
     "data": {
      "image/png": "[encoded data removed]",
      "text/plain": [
       "<Figure size 1800x1440 with 1 Axes>"
      ]
     },
     "metadata": {
      "needs_background": "light"
     },
     "output_type": "display_data"
    }
   ],
   "source": [
    "fig = plt.figure(figsize=(25, 20))\n",
    "plot_tree(rf.estimators_[0], \n",
    "          feature_names=x.columns,\n",
    "#           class_names=, \n",
    "          filled=True, impurity=True, \n",
    "          rounded=True)\n",
    "plt.show()"
   ]
  },
  {
   "cell_type": "code",
   "execution_count": 87,
   "id": "4914013f",
   "metadata": {},
   "outputs": [
    {
     "name": "stderr",
     "output_type": "stream",
     "text": [
      "<ipython-input-87-52e6ec2cbcb8>:1: MatplotlibDeprecationWarning: savefig() got unexpected keyword argument \"quality\" which is no longer supported as of 3.3 and will become an error two minor releases later\n",
      "  fig.savefig('random_forest.png', quality=95, optimizer=True, dpi=100)\n",
      "<ipython-input-87-52e6ec2cbcb8>:1: MatplotlibDeprecationWarning: savefig() got unexpected keyword argument \"optimizer\" which is no longer supported as of 3.3 and will become an error two minor releases later\n",
      "  fig.savefig('random_forest.png', quality=95, optimizer=True, dpi=100)\n"
     ]
    }
   ],
   "source": [
    "fig.savefig('random_forest.png', quality=95, optimizer=True, dpi=100)"
   ]
  },
  {
   "cell_type": "code",
   "execution_count": null,
   "id": "54a4eb13",
   "metadata": {},
   "outputs": [],
   "source": []
  }
 ],
 "metadata": {
  "kernelspec": {
   "display_name": "Python 3",
   "language": "python",
   "name": "python3"
  },
  "language_info": {
   "codemirror_mode": {
    "name": "ipython",
    "version": 3
   },
   "file_extension": ".py",
   "mimetype": "text/x-python",
   "name": "python",
   "nbconvert_exporter": "python",
   "pygments_lexer": "ipython3",
   "version": "3.8.8"
  }
 },
 "nbformat": 4,
 "nbformat_minor": 5
}
