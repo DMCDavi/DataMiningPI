{
 "cells": [
  {
   "cell_type": "code",
   "execution_count": 74,
   "id": "ab882858",
   "metadata": {},
   "outputs": [],
   "source": [
    "import pandas as pd\n",
    "import seaborn as sns\n",
    "import matplotlib.pyplot as plt\n",
    "import numpy as np\n",
    "from sklearn.ensemble import RandomForestClassifier\n",
    "from sklearn.metrics import accuracy_score, confusion_matrix, classification_report\n",
    "from sklearn.model_selection import train_test_split"
   ]
  },
  {
   "cell_type": "code",
   "execution_count": 2,
   "id": "540c2122",
   "metadata": {},
   "outputs": [],
   "source": [
    "pd.set_option('display.max_rows', 1000)\n",
    "pd.set_option('display.max_columns', 500)"
   ]
  },
  {
   "cell_type": "code",
   "execution_count": 3,
   "id": "d1954936",
   "metadata": {},
   "outputs": [
    {
     "data": {
      "text/plain": [
       "(454432, 17)"
      ]
     },
     "execution_count": 3,
     "metadata": {},
     "output_type": "execute_result"
    }
   ],
   "source": [
    "df_2020 = pd.read_csv('../../dobrano_2020_pre_preprocessado.csv', sep=';', low_memory=False, encoding='latin1')\n",
    "df_2020.shape"
   ]
  },
  {
   "cell_type": "code",
   "execution_count": 4,
   "id": "db2fa974",
   "metadata": {},
   "outputs": [
    {
     "data": {
      "text/html": [
       "<div>\n",
       "<style scoped>\n",
       "    .dataframe tbody tr th:only-of-type {\n",
       "        vertical-align: middle;\n",
       "    }\n",
       "\n",
       "    .dataframe tbody tr th {\n",
       "        vertical-align: top;\n",
       "    }\n",
       "\n",
       "    .dataframe thead th {\n",
       "        text-align: right;\n",
       "    }\n",
       "</style>\n",
       "<table border=\"1\" class=\"dataframe\">\n",
       "  <thead>\n",
       "    <tr style=\"text-align: right;\">\n",
       "      <th></th>\n",
       "      <th>idade</th>\n",
       "      <th>sexo</th>\n",
       "      <th>raca_cor</th>\n",
       "      <th>escolaridade</th>\n",
       "      <th>local_ocorrencia</th>\n",
       "      <th>teve_assistencia_medica</th>\n",
       "      <th>dia_nasc</th>\n",
       "      <th>mes_nasc</th>\n",
       "      <th>ano_nasc</th>\n",
       "      <th>dia_obito</th>\n",
       "      <th>mes_obito</th>\n",
       "      <th>ano_obito</th>\n",
       "      <th>estado</th>\n",
       "      <th>grupo_causa_basica</th>\n",
       "      <th>causa_basica</th>\n",
       "      <th>ocupacao</th>\n",
       "      <th>grupo_ocupacao</th>\n",
       "    </tr>\n",
       "  </thead>\n",
       "  <tbody>\n",
       "    <tr>\n",
       "      <th>0</th>\n",
       "      <td>68.0</td>\n",
       "      <td>M</td>\n",
       "      <td>BRANCA</td>\n",
       "      <td>EF_I</td>\n",
       "      <td>DOMICILIO</td>\n",
       "      <td>NAO</td>\n",
       "      <td>10</td>\n",
       "      <td>5.0</td>\n",
       "      <td>1951.0</td>\n",
       "      <td>25</td>\n",
       "      <td>1</td>\n",
       "      <td>2020</td>\n",
       "      <td>MG</td>\n",
       "      <td>Causas mal definidas e desconhecidas de mortal...</td>\n",
       "      <td>Outras causas mal definidas e as não especific...</td>\n",
       "      <td>NaN</td>\n",
       "      <td>TRABALHADORES EM SERVIÇOS DE REPARAÇÃO E MANUT...</td>\n",
       "    </tr>\n",
       "    <tr>\n",
       "      <th>1</th>\n",
       "      <td>53.0</td>\n",
       "      <td>M</td>\n",
       "      <td>PRETA</td>\n",
       "      <td>EF_I</td>\n",
       "      <td>DOMICILIO</td>\n",
       "      <td>NAO</td>\n",
       "      <td>16</td>\n",
       "      <td>3.0</td>\n",
       "      <td>1966.0</td>\n",
       "      <td>25</td>\n",
       "      <td>1</td>\n",
       "      <td>2020</td>\n",
       "      <td>MG</td>\n",
       "      <td>Causas mal definidas e desconhecidas de mortal...</td>\n",
       "      <td>Outras causas mal definidas e as não especific...</td>\n",
       "      <td>Trabalhador agropecuário em geral</td>\n",
       "      <td>TRABALHADORES AGROPECUÁRIOS, FLORESTAIS E DA P...</td>\n",
       "    </tr>\n",
       "    <tr>\n",
       "      <th>2</th>\n",
       "      <td>82.0</td>\n",
       "      <td>F</td>\n",
       "      <td>BRANCA</td>\n",
       "      <td>EF_I</td>\n",
       "      <td>HOSPITAL</td>\n",
       "      <td>NaN</td>\n",
       "      <td>10</td>\n",
       "      <td>7.0</td>\n",
       "      <td>1937.0</td>\n",
       "      <td>14</td>\n",
       "      <td>1</td>\n",
       "      <td>2020</td>\n",
       "      <td>MG</td>\n",
       "      <td>Outras doenças dos intestinos</td>\n",
       "      <td>Doença diverticular do intestino, de localizaç...</td>\n",
       "      <td>NaN</td>\n",
       "      <td>TRABALHADORES EM SERVIÇOS DE REPARAÇÃO E MANUT...</td>\n",
       "    </tr>\n",
       "    <tr>\n",
       "      <th>3</th>\n",
       "      <td>73.0</td>\n",
       "      <td>F</td>\n",
       "      <td>BRANCA</td>\n",
       "      <td>EF_I</td>\n",
       "      <td>HOSPITAL</td>\n",
       "      <td>SIM</td>\n",
       "      <td>2</td>\n",
       "      <td>11.0</td>\n",
       "      <td>1946.0</td>\n",
       "      <td>20</td>\n",
       "      <td>1</td>\n",
       "      <td>2020</td>\n",
       "      <td>MG</td>\n",
       "      <td>Outras doenças do aparelho respiratório</td>\n",
       "      <td>Insuficiência respiratória aguda</td>\n",
       "      <td>NaN</td>\n",
       "      <td>TRABALHADORES EM SERVIÇOS DE REPARAÇÃO E MANUT...</td>\n",
       "    </tr>\n",
       "    <tr>\n",
       "      <th>4</th>\n",
       "      <td>60.0</td>\n",
       "      <td>M</td>\n",
       "      <td>BRANCA</td>\n",
       "      <td>SUPERIOR_C</td>\n",
       "      <td>HOSPITAL</td>\n",
       "      <td>SIM</td>\n",
       "      <td>12</td>\n",
       "      <td>9.0</td>\n",
       "      <td>1959.0</td>\n",
       "      <td>26</td>\n",
       "      <td>1</td>\n",
       "      <td>2020</td>\n",
       "      <td>MG</td>\n",
       "      <td>Outras doenças bacterianas</td>\n",
       "      <td>Septicemia não especificada</td>\n",
       "      <td>Professor da  educação de jovens e adultos do ...</td>\n",
       "      <td>PROFISSIONAIS DAS CIÊNCIAS E DAS ARTES        ...</td>\n",
       "    </tr>\n",
       "  </tbody>\n",
       "</table>\n",
       "</div>"
      ],
      "text/plain": [
       "   idade sexo raca_cor escolaridade local_ocorrencia teve_assistencia_medica  \\\n",
       "0   68.0    M   BRANCA         EF_I        DOMICILIO                     NAO   \n",
       "1   53.0    M    PRETA         EF_I        DOMICILIO                     NAO   \n",
       "2   82.0    F   BRANCA         EF_I         HOSPITAL                     NaN   \n",
       "3   73.0    F   BRANCA         EF_I         HOSPITAL                     SIM   \n",
       "4   60.0    M   BRANCA   SUPERIOR_C         HOSPITAL                     SIM   \n",
       "\n",
       "   dia_nasc  mes_nasc  ano_nasc  dia_obito  mes_obito  ano_obito estado  \\\n",
       "0        10       5.0    1951.0         25          1       2020     MG   \n",
       "1        16       3.0    1966.0         25          1       2020     MG   \n",
       "2        10       7.0    1937.0         14          1       2020     MG   \n",
       "3         2      11.0    1946.0         20          1       2020     MG   \n",
       "4        12       9.0    1959.0         26          1       2020     MG   \n",
       "\n",
       "                                  grupo_causa_basica  \\\n",
       "0  Causas mal definidas e desconhecidas de mortal...   \n",
       "1  Causas mal definidas e desconhecidas de mortal...   \n",
       "2                      Outras doenças dos intestinos   \n",
       "3            Outras doenças do aparelho respiratório   \n",
       "4                         Outras doenças bacterianas   \n",
       "\n",
       "                                        causa_basica  \\\n",
       "0  Outras causas mal definidas e as não especific...   \n",
       "1  Outras causas mal definidas e as não especific...   \n",
       "2  Doença diverticular do intestino, de localizaç...   \n",
       "3                   Insuficiência respiratória aguda   \n",
       "4                        Septicemia não especificada   \n",
       "\n",
       "                                            ocupacao  \\\n",
       "0                                                NaN   \n",
       "1                  Trabalhador agropecuário em geral   \n",
       "2                                                NaN   \n",
       "3                                                NaN   \n",
       "4  Professor da  educação de jovens e adultos do ...   \n",
       "\n",
       "                                      grupo_ocupacao  \n",
       "0  TRABALHADORES EM SERVIÇOS DE REPARAÇÃO E MANUT...  \n",
       "1  TRABALHADORES AGROPECUÁRIOS, FLORESTAIS E DA P...  \n",
       "2  TRABALHADORES EM SERVIÇOS DE REPARAÇÃO E MANUT...  \n",
       "3  TRABALHADORES EM SERVIÇOS DE REPARAÇÃO E MANUT...  \n",
       "4  PROFISSIONAIS DAS CIÊNCIAS E DAS ARTES        ...  "
      ]
     },
     "execution_count": 4,
     "metadata": {},
     "output_type": "execute_result"
    }
   ],
   "source": [
    "df_2020.head()"
   ]
  },
  {
   "cell_type": "markdown",
   "id": "0d9bfd53",
   "metadata": {},
   "source": [
    "#### TRANSFORMANDO DADOS EM NUMÉRICOS"
   ]
  },
  {
   "cell_type": "code",
   "execution_count": 5,
   "id": "ac3a283d",
   "metadata": {},
   "outputs": [],
   "source": [
    "df_2020['raca_cor'] = df_2020['raca_cor'].replace(['BRANCA', 'PRETA', 'AMARELA', 'PARDA', 'INDIGENA'], [1, 2, 3, 4, 5])"
   ]
  },
  {
   "cell_type": "code",
   "execution_count": 6,
   "id": "099c82c2",
   "metadata": {},
   "outputs": [],
   "source": [
    "df_2020['escolaridade'] = df_2020['escolaridade'].replace(\n",
    "                                          ['SEM', 'EF_I', 'EF_II', 'EM', 'SUPERIOR_I', 'SUPERIOR_C', 'I'],\n",
    "                                        [0, 1, 2, 3, 4, 5, 9]\n",
    "                                         )"
   ]
  },
  {
   "cell_type": "code",
   "execution_count": 7,
   "id": "ad347e7d",
   "metadata": {},
   "outputs": [],
   "source": [
    "df_2020['local_ocorrencia'] = df_2020['local_ocorrencia'].replace(['HOSPITAL', 'OES', 'DOMICILIO', 'VIAP', 'OUTROS', 'I'],\n",
    "                                            [1, 2, 3, 4, 5, 9]\n",
    "                                         )"
   ]
  },
  {
   "cell_type": "code",
   "execution_count": 8,
   "id": "e9dd775b",
   "metadata": {},
   "outputs": [],
   "source": [
    "df_2020['teve_assistencia_medica'] = df_2020['teve_assistencia_medica'].replace(['SIM', 'NAO', 'I'], [1, 2, 9]\n",
    "                                             )"
   ]
  },
  {
   "cell_type": "code",
   "execution_count": 9,
   "id": "3b87154f",
   "metadata": {},
   "outputs": [],
   "source": [
    "df_2020['sexo'] = df_2020['sexo'].replace(['M', 'F', 'I'], [1, 2, 0]) "
   ]
  },
  {
   "cell_type": "markdown",
   "id": "87d27d38",
   "metadata": {},
   "source": [
    "##### REORGANIZANDO DESCRIÇÕES DOS GRUPOS DOS CIDS E DAS OCUPAÇÕES"
   ]
  },
  {
   "cell_type": "code",
   "execution_count": 10,
   "id": "da9e86e9",
   "metadata": {},
   "outputs": [],
   "source": [
    "df_cid_grupos = pd.read_csv('../../CID-10-GRUPOS.csv', header=0, sep=';', encoding='latin1')\n",
    "# df_cid_grupos.head()\n",
    "\n",
    "df_cid_grupos = df_cid_grupos.drop(columns=['Unnamed: 0'])"
   ]
  },
  {
   "cell_type": "code",
   "execution_count": 11,
   "id": "1035f32c",
   "metadata": {},
   "outputs": [
    {
     "data": {
      "text/html": [
       "<div>\n",
       "<style scoped>\n",
       "    .dataframe tbody tr th:only-of-type {\n",
       "        vertical-align: middle;\n",
       "    }\n",
       "\n",
       "    .dataframe tbody tr th {\n",
       "        vertical-align: top;\n",
       "    }\n",
       "\n",
       "    .dataframe thead th {\n",
       "        text-align: right;\n",
       "    }\n",
       "</style>\n",
       "<table border=\"1\" class=\"dataframe\">\n",
       "  <thead>\n",
       "    <tr style=\"text-align: right;\">\n",
       "      <th></th>\n",
       "      <th>CATINIC</th>\n",
       "      <th>CATFIM</th>\n",
       "      <th>DESCRICAO</th>\n",
       "      <th>DESCRABREV</th>\n",
       "    </tr>\n",
       "  </thead>\n",
       "  <tbody>\n",
       "    <tr>\n",
       "      <th>0</th>\n",
       "      <td>A00</td>\n",
       "      <td>A09</td>\n",
       "      <td>Doenças infecciosas intestinais</td>\n",
       "      <td>Doenças infecciosas intestinais</td>\n",
       "    </tr>\n",
       "    <tr>\n",
       "      <th>1</th>\n",
       "      <td>A15</td>\n",
       "      <td>A19</td>\n",
       "      <td>Tuberculose</td>\n",
       "      <td>Tuberculose</td>\n",
       "    </tr>\n",
       "    <tr>\n",
       "      <th>2</th>\n",
       "      <td>A20</td>\n",
       "      <td>A28</td>\n",
       "      <td>Algumas doenças bacterianas zoonóticas</td>\n",
       "      <td>Algumas doenças bacterianas zoonóticas</td>\n",
       "    </tr>\n",
       "    <tr>\n",
       "      <th>3</th>\n",
       "      <td>A30</td>\n",
       "      <td>A49</td>\n",
       "      <td>Outras doenças bacterianas</td>\n",
       "      <td>Outras doenças bacterianas</td>\n",
       "    </tr>\n",
       "    <tr>\n",
       "      <th>4</th>\n",
       "      <td>A50</td>\n",
       "      <td>A64</td>\n",
       "      <td>Infecções de transmissão predominantemente sexual</td>\n",
       "      <td>Infecções de transmissão predominantemente sexual</td>\n",
       "    </tr>\n",
       "  </tbody>\n",
       "</table>\n",
       "</div>"
      ],
      "text/plain": [
       "  CATINIC CATFIM                                          DESCRICAO  \\\n",
       "0     A00    A09                    Doenças infecciosas intestinais   \n",
       "1     A15    A19                                        Tuberculose   \n",
       "2     A20    A28             Algumas doenças bacterianas zoonóticas   \n",
       "3     A30    A49                         Outras doenças bacterianas   \n",
       "4     A50    A64  Infecções de transmissão predominantemente sexual   \n",
       "\n",
       "                                          DESCRABREV  \n",
       "0                    Doenças infecciosas intestinais  \n",
       "1                                        Tuberculose  \n",
       "2             Algumas doenças bacterianas zoonóticas  \n",
       "3                         Outras doenças bacterianas  \n",
       "4  Infecções de transmissão predominantemente sexual  "
      ]
     },
     "execution_count": 11,
     "metadata": {},
     "output_type": "execute_result"
    }
   ],
   "source": [
    "df_cid_grupos.head()"
   ]
  },
  {
   "cell_type": "code",
   "execution_count": 12,
   "id": "f7c8b5d1",
   "metadata": {},
   "outputs": [],
   "source": [
    "cid_grupos = [i for i in range(df_cid_grupos.shape[0])]"
   ]
  },
  {
   "cell_type": "code",
   "execution_count": 13,
   "id": "b8835576",
   "metadata": {},
   "outputs": [],
   "source": [
    "df_cid_grupos['VALOR'] = cid_grupos"
   ]
  },
  {
   "cell_type": "code",
   "execution_count": 25,
   "id": "9ee1fc47",
   "metadata": {},
   "outputs": [],
   "source": [
    "df_ocup_grupo = pd.read_csv('../../Downloads/CBO2002_Grande_Grupo.csv', header=0, sep=';', encoding='latin1')"
   ]
  },
  {
   "cell_type": "code",
   "execution_count": 26,
   "id": "c1cfe3b9",
   "metadata": {},
   "outputs": [
    {
     "data": {
      "text/html": [
       "<div>\n",
       "<style scoped>\n",
       "    .dataframe tbody tr th:only-of-type {\n",
       "        vertical-align: middle;\n",
       "    }\n",
       "\n",
       "    .dataframe tbody tr th {\n",
       "        vertical-align: top;\n",
       "    }\n",
       "\n",
       "    .dataframe thead th {\n",
       "        text-align: right;\n",
       "    }\n",
       "</style>\n",
       "<table border=\"1\" class=\"dataframe\">\n",
       "  <thead>\n",
       "    <tr style=\"text-align: right;\">\n",
       "      <th></th>\n",
       "      <th>CODIGO</th>\n",
       "      <th>TITULO</th>\n",
       "    </tr>\n",
       "  </thead>\n",
       "  <tbody>\n",
       "    <tr>\n",
       "      <th>0</th>\n",
       "      <td>0</td>\n",
       "      <td>MEMBROS DAS FORÇAS ARMADAS, POLICIAIS E BOMBEI...</td>\n",
       "    </tr>\n",
       "    <tr>\n",
       "      <th>1</th>\n",
       "      <td>1</td>\n",
       "      <td>MEMBROS SUPERIORES DO PODER PÚBLICO, DIRIGENTE...</td>\n",
       "    </tr>\n",
       "    <tr>\n",
       "      <th>2</th>\n",
       "      <td>2</td>\n",
       "      <td>PROFISSIONAIS DAS CIÊNCIAS E DAS ARTES        ...</td>\n",
       "    </tr>\n",
       "    <tr>\n",
       "      <th>3</th>\n",
       "      <td>3</td>\n",
       "      <td>TÉCNICOS DE NIVEL MÉDIO                       ...</td>\n",
       "    </tr>\n",
       "    <tr>\n",
       "      <th>4</th>\n",
       "      <td>4</td>\n",
       "      <td>TRABALHADORES DE SERVIÇOS ADMINISTRATIVOS     ...</td>\n",
       "    </tr>\n",
       "  </tbody>\n",
       "</table>\n",
       "</div>"
      ],
      "text/plain": [
       "   CODIGO                                             TITULO\n",
       "0       0  MEMBROS DAS FORÇAS ARMADAS, POLICIAIS E BOMBEI...\n",
       "1       1  MEMBROS SUPERIORES DO PODER PÚBLICO, DIRIGENTE...\n",
       "2       2  PROFISSIONAIS DAS CIÊNCIAS E DAS ARTES        ...\n",
       "3       3  TÉCNICOS DE NIVEL MÉDIO                       ...\n",
       "4       4  TRABALHADORES DE SERVIÇOS ADMINISTRATIVOS     ..."
      ]
     },
     "execution_count": 26,
     "metadata": {},
     "output_type": "execute_result"
    }
   ],
   "source": [
    "df_ocup_grupo.head()"
   ]
  },
  {
   "cell_type": "code",
   "execution_count": 27,
   "id": "c387ebbc",
   "metadata": {},
   "outputs": [
    {
     "data": {
      "text/html": [
       "<div>\n",
       "<style scoped>\n",
       "    .dataframe tbody tr th:only-of-type {\n",
       "        vertical-align: middle;\n",
       "    }\n",
       "\n",
       "    .dataframe tbody tr th {\n",
       "        vertical-align: top;\n",
       "    }\n",
       "\n",
       "    .dataframe thead th {\n",
       "        text-align: right;\n",
       "    }\n",
       "</style>\n",
       "<table border=\"1\" class=\"dataframe\">\n",
       "  <thead>\n",
       "    <tr style=\"text-align: right;\">\n",
       "      <th></th>\n",
       "      <th>CODIGO</th>\n",
       "      <th>TITULO</th>\n",
       "    </tr>\n",
       "  </thead>\n",
       "  <tbody>\n",
       "    <tr>\n",
       "      <th>0</th>\n",
       "      <td>0</td>\n",
       "      <td>MEMBROS DAS FORÇAS ARMADAS, POLICIAIS E BOMBEI...</td>\n",
       "    </tr>\n",
       "    <tr>\n",
       "      <th>1</th>\n",
       "      <td>1</td>\n",
       "      <td>MEMBROS SUPERIORES DO PODER PÚBLICO, DIRIGENTE...</td>\n",
       "    </tr>\n",
       "    <tr>\n",
       "      <th>2</th>\n",
       "      <td>2</td>\n",
       "      <td>PROFISSIONAIS DAS CIÊNCIAS E DAS ARTES        ...</td>\n",
       "    </tr>\n",
       "    <tr>\n",
       "      <th>3</th>\n",
       "      <td>3</td>\n",
       "      <td>TÉCNICOS DE NIVEL MÉDIO                       ...</td>\n",
       "    </tr>\n",
       "    <tr>\n",
       "      <th>4</th>\n",
       "      <td>4</td>\n",
       "      <td>TRABALHADORES DE SERVIÇOS ADMINISTRATIVOS     ...</td>\n",
       "    </tr>\n",
       "    <tr>\n",
       "      <th>5</th>\n",
       "      <td>5</td>\n",
       "      <td>TRABALHADORES DOS SERVIÇOS, VENDEDORES DO COMÉ...</td>\n",
       "    </tr>\n",
       "    <tr>\n",
       "      <th>6</th>\n",
       "      <td>6</td>\n",
       "      <td>TRABALHADORES AGROPECUÁRIOS, FLORESTAIS E DA P...</td>\n",
       "    </tr>\n",
       "    <tr>\n",
       "      <th>7</th>\n",
       "      <td>7</td>\n",
       "      <td>TRABALHADORES DA PRODUÇÃO DE BENS E SERVIÇOS I...</td>\n",
       "    </tr>\n",
       "    <tr>\n",
       "      <th>8</th>\n",
       "      <td>8</td>\n",
       "      <td>TRABALHADORES DA PRODUÇÃO DE BENS E SERVIÇOS I...</td>\n",
       "    </tr>\n",
       "    <tr>\n",
       "      <th>9</th>\n",
       "      <td>9</td>\n",
       "      <td>TRABALHADORES EM SERVIÇOS DE REPARAÇÃO E MANUT...</td>\n",
       "    </tr>\n",
       "    <tr>\n",
       "      <th>10</th>\n",
       "      <td>10</td>\n",
       "      <td>SEM OCUPAÇÃO</td>\n",
       "    </tr>\n",
       "  </tbody>\n",
       "</table>\n",
       "</div>"
      ],
      "text/plain": [
       "   CODIGO                                             TITULO\n",
       "0       0  MEMBROS DAS FORÇAS ARMADAS, POLICIAIS E BOMBEI...\n",
       "1       1  MEMBROS SUPERIORES DO PODER PÚBLICO, DIRIGENTE...\n",
       "2       2  PROFISSIONAIS DAS CIÊNCIAS E DAS ARTES        ...\n",
       "3       3  TÉCNICOS DE NIVEL MÉDIO                       ...\n",
       "4       4  TRABALHADORES DE SERVIÇOS ADMINISTRATIVOS     ...\n",
       "5       5  TRABALHADORES DOS SERVIÇOS, VENDEDORES DO COMÉ...\n",
       "6       6  TRABALHADORES AGROPECUÁRIOS, FLORESTAIS E DA P...\n",
       "7       7  TRABALHADORES DA PRODUÇÃO DE BENS E SERVIÇOS I...\n",
       "8       8  TRABALHADORES DA PRODUÇÃO DE BENS E SERVIÇOS I...\n",
       "9       9  TRABALHADORES EM SERVIÇOS DE REPARAÇÃO E MANUT...\n",
       "10     10                                       SEM OCUPAÇÃO"
      ]
     },
     "execution_count": 27,
     "metadata": {},
     "output_type": "execute_result"
    }
   ],
   "source": [
    "df_ocup_grupo.append({'TITULO': 'SEM OCUPAÇÃO', 'CODIGO': str(df_ocup_grupo.shape[0])}, ignore_index=True)"
   ]
  },
  {
   "cell_type": "code",
   "execution_count": 28,
   "id": "860bec32",
   "metadata": {},
   "outputs": [],
   "source": [
    "ocup_grupos = [i for i in range(df_ocup_grupo.shape[0])]\n",
    "# ocup_grupos.append(len(ocup_grupos) + 1)"
   ]
  },
  {
   "cell_type": "code",
   "execution_count": 29,
   "id": "74c10581",
   "metadata": {},
   "outputs": [],
   "source": [
    "df_ocup_grupo['VALOR'] = ocup_grupos"
   ]
  },
  {
   "cell_type": "code",
   "execution_count": 30,
   "id": "76c537f3",
   "metadata": {},
   "outputs": [],
   "source": [
    "def group_ocup(row, grupo):\n",
    "    grupo.loc[(grupo.grupo_ocupacao == row.TITULO),\n",
    "             ['grupo_ocupacao']] = row.VALOR"
   ]
  },
  {
   "cell_type": "code",
   "execution_count": 31,
   "id": "71a08c92",
   "metadata": {},
   "outputs": [
    {
     "data": {
      "text/plain": [
       "0    None\n",
       "1    None\n",
       "2    None\n",
       "3    None\n",
       "4    None\n",
       "5    None\n",
       "6    None\n",
       "7    None\n",
       "8    None\n",
       "9    None\n",
       "dtype: object"
      ]
     },
     "execution_count": 31,
     "metadata": {},
     "output_type": "execute_result"
    }
   ],
   "source": [
    "df_ocup_grupo.apply(group_ocup, grupo=df_2020, axis='columns')"
   ]
  },
  {
   "cell_type": "code",
   "execution_count": 32,
   "id": "904a2614",
   "metadata": {},
   "outputs": [],
   "source": [
    "def categoria_cid(row, cids):\n",
    "    cids.loc[(cids.grupo_causa_basica == row.DESCRICAO),\n",
    "             ['grupo_causa_basica']] = row.VALOR"
   ]
  },
  {
   "cell_type": "code",
   "execution_count": 33,
   "id": "eea9df37",
   "metadata": {},
   "outputs": [
    {
     "data": {
      "text/plain": [
       "0      None\n",
       "1      None\n",
       "2      None\n",
       "3      None\n",
       "4      None\n",
       "5      None\n",
       "6      None\n",
       "7      None\n",
       "8      None\n",
       "9      None\n",
       "10     None\n",
       "11     None\n",
       "12     None\n",
       "13     None\n",
       "14     None\n",
       "15     None\n",
       "16     None\n",
       "17     None\n",
       "18     None\n",
       "19     None\n",
       "20     None\n",
       "21     None\n",
       "22     None\n",
       "23     None\n",
       "24     None\n",
       "25     None\n",
       "26     None\n",
       "27     None\n",
       "28     None\n",
       "29     None\n",
       "30     None\n",
       "31     None\n",
       "32     None\n",
       "33     None\n",
       "34     None\n",
       "35     None\n",
       "36     None\n",
       "37     None\n",
       "38     None\n",
       "39     None\n",
       "40     None\n",
       "41     None\n",
       "42     None\n",
       "43     None\n",
       "44     None\n",
       "45     None\n",
       "46     None\n",
       "47     None\n",
       "48     None\n",
       "49     None\n",
       "50     None\n",
       "51     None\n",
       "52     None\n",
       "53     None\n",
       "54     None\n",
       "55     None\n",
       "56     None\n",
       "57     None\n",
       "58     None\n",
       "59     None\n",
       "60     None\n",
       "61     None\n",
       "62     None\n",
       "63     None\n",
       "64     None\n",
       "65     None\n",
       "66     None\n",
       "67     None\n",
       "68     None\n",
       "69     None\n",
       "70     None\n",
       "71     None\n",
       "72     None\n",
       "73     None\n",
       "74     None\n",
       "75     None\n",
       "76     None\n",
       "77     None\n",
       "78     None\n",
       "79     None\n",
       "80     None\n",
       "81     None\n",
       "82     None\n",
       "83     None\n",
       "84     None\n",
       "85     None\n",
       "86     None\n",
       "87     None\n",
       "88     None\n",
       "89     None\n",
       "90     None\n",
       "91     None\n",
       "92     None\n",
       "93     None\n",
       "94     None\n",
       "95     None\n",
       "96     None\n",
       "97     None\n",
       "98     None\n",
       "99     None\n",
       "100    None\n",
       "101    None\n",
       "102    None\n",
       "103    None\n",
       "104    None\n",
       "105    None\n",
       "106    None\n",
       "107    None\n",
       "108    None\n",
       "109    None\n",
       "110    None\n",
       "111    None\n",
       "112    None\n",
       "113    None\n",
       "114    None\n",
       "115    None\n",
       "116    None\n",
       "117    None\n",
       "118    None\n",
       "119    None\n",
       "120    None\n",
       "121    None\n",
       "122    None\n",
       "123    None\n",
       "124    None\n",
       "125    None\n",
       "126    None\n",
       "127    None\n",
       "128    None\n",
       "129    None\n",
       "130    None\n",
       "131    None\n",
       "132    None\n",
       "133    None\n",
       "134    None\n",
       "135    None\n",
       "136    None\n",
       "137    None\n",
       "138    None\n",
       "139    None\n",
       "140    None\n",
       "141    None\n",
       "142    None\n",
       "143    None\n",
       "144    None\n",
       "145    None\n",
       "146    None\n",
       "147    None\n",
       "148    None\n",
       "149    None\n",
       "150    None\n",
       "151    None\n",
       "152    None\n",
       "153    None\n",
       "154    None\n",
       "155    None\n",
       "156    None\n",
       "157    None\n",
       "158    None\n",
       "159    None\n",
       "160    None\n",
       "161    None\n",
       "162    None\n",
       "163    None\n",
       "164    None\n",
       "165    None\n",
       "166    None\n",
       "167    None\n",
       "168    None\n",
       "169    None\n",
       "170    None\n",
       "171    None\n",
       "172    None\n",
       "173    None\n",
       "174    None\n",
       "175    None\n",
       "176    None\n",
       "177    None\n",
       "178    None\n",
       "179    None\n",
       "180    None\n",
       "181    None\n",
       "182    None\n",
       "183    None\n",
       "184    None\n",
       "185    None\n",
       "186    None\n",
       "187    None\n",
       "188    None\n",
       "189    None\n",
       "190    None\n",
       "191    None\n",
       "192    None\n",
       "193    None\n",
       "194    None\n",
       "195    None\n",
       "196    None\n",
       "197    None\n",
       "198    None\n",
       "199    None\n",
       "200    None\n",
       "201    None\n",
       "202    None\n",
       "203    None\n",
       "204    None\n",
       "205    None\n",
       "206    None\n",
       "207    None\n",
       "208    None\n",
       "209    None\n",
       "210    None\n",
       "211    None\n",
       "212    None\n",
       "213    None\n",
       "214    None\n",
       "215    None\n",
       "216    None\n",
       "217    None\n",
       "218    None\n",
       "219    None\n",
       "220    None\n",
       "221    None\n",
       "222    None\n",
       "223    None\n",
       "224    None\n",
       "225    None\n",
       "226    None\n",
       "227    None\n",
       "228    None\n",
       "229    None\n",
       "230    None\n",
       "231    None\n",
       "232    None\n",
       "233    None\n",
       "234    None\n",
       "235    None\n",
       "236    None\n",
       "237    None\n",
       "238    None\n",
       "239    None\n",
       "240    None\n",
       "241    None\n",
       "242    None\n",
       "243    None\n",
       "244    None\n",
       "245    None\n",
       "246    None\n",
       "247    None\n",
       "248    None\n",
       "249    None\n",
       "250    None\n",
       "251    None\n",
       "252    None\n",
       "253    None\n",
       "254    None\n",
       "255    None\n",
       "256    None\n",
       "257    None\n",
       "258    None\n",
       "259    None\n",
       "260    None\n",
       "261    None\n",
       "262    None\n",
       "263    None\n",
       "264    None\n",
       "265    None\n",
       "266    None\n",
       "267    None\n",
       "268    None\n",
       "269    None\n",
       "270    None\n",
       "271    None\n",
       "272    None\n",
       "273    None\n",
       "274    None\n",
       "dtype: object"
      ]
     },
     "execution_count": 33,
     "metadata": {},
     "output_type": "execute_result"
    }
   ],
   "source": [
    "df_cid_grupos.apply(categoria_cid, cids=df_2020, axis='columns')"
   ]
  },
  {
   "cell_type": "code",
   "execution_count": 34,
   "id": "57b889bd",
   "metadata": {
    "scrolled": false
   },
   "outputs": [
    {
     "data": {
      "text/html": [
       "<div>\n",
       "<style scoped>\n",
       "    .dataframe tbody tr th:only-of-type {\n",
       "        vertical-align: middle;\n",
       "    }\n",
       "\n",
       "    .dataframe tbody tr th {\n",
       "        vertical-align: top;\n",
       "    }\n",
       "\n",
       "    .dataframe thead th {\n",
       "        text-align: right;\n",
       "    }\n",
       "</style>\n",
       "<table border=\"1\" class=\"dataframe\">\n",
       "  <thead>\n",
       "    <tr style=\"text-align: right;\">\n",
       "      <th></th>\n",
       "      <th>idade</th>\n",
       "      <th>sexo</th>\n",
       "      <th>raca_cor</th>\n",
       "      <th>escolaridade</th>\n",
       "      <th>local_ocorrencia</th>\n",
       "      <th>teve_assistencia_medica</th>\n",
       "      <th>dia_nasc</th>\n",
       "      <th>mes_nasc</th>\n",
       "      <th>ano_nasc</th>\n",
       "      <th>dia_obito</th>\n",
       "      <th>mes_obito</th>\n",
       "      <th>ano_obito</th>\n",
       "      <th>estado</th>\n",
       "      <th>grupo_causa_basica</th>\n",
       "      <th>causa_basica</th>\n",
       "      <th>ocupacao</th>\n",
       "      <th>grupo_ocupacao</th>\n",
       "    </tr>\n",
       "  </thead>\n",
       "  <tbody>\n",
       "    <tr>\n",
       "      <th>0</th>\n",
       "      <td>68.0</td>\n",
       "      <td>1</td>\n",
       "      <td>1.0</td>\n",
       "      <td>1.0</td>\n",
       "      <td>3</td>\n",
       "      <td>2.0</td>\n",
       "      <td>10</td>\n",
       "      <td>5.0</td>\n",
       "      <td>1951.0</td>\n",
       "      <td>25</td>\n",
       "      <td>1</td>\n",
       "      <td>2020</td>\n",
       "      <td>MG</td>\n",
       "      <td>201</td>\n",
       "      <td>Outras causas mal definidas e as não especific...</td>\n",
       "      <td>NaN</td>\n",
       "      <td>9</td>\n",
       "    </tr>\n",
       "    <tr>\n",
       "      <th>1</th>\n",
       "      <td>53.0</td>\n",
       "      <td>1</td>\n",
       "      <td>2.0</td>\n",
       "      <td>1.0</td>\n",
       "      <td>3</td>\n",
       "      <td>2.0</td>\n",
       "      <td>16</td>\n",
       "      <td>3.0</td>\n",
       "      <td>1966.0</td>\n",
       "      <td>25</td>\n",
       "      <td>1</td>\n",
       "      <td>2020</td>\n",
       "      <td>MG</td>\n",
       "      <td>201</td>\n",
       "      <td>Outras causas mal definidas e as não especific...</td>\n",
       "      <td>Trabalhador agropecuário em geral</td>\n",
       "      <td>6</td>\n",
       "    </tr>\n",
       "    <tr>\n",
       "      <th>2</th>\n",
       "      <td>82.0</td>\n",
       "      <td>2</td>\n",
       "      <td>1.0</td>\n",
       "      <td>1.0</td>\n",
       "      <td>1</td>\n",
       "      <td>NaN</td>\n",
       "      <td>10</td>\n",
       "      <td>7.0</td>\n",
       "      <td>1937.0</td>\n",
       "      <td>14</td>\n",
       "      <td>1</td>\n",
       "      <td>2020</td>\n",
       "      <td>MG</td>\n",
       "      <td>117</td>\n",
       "      <td>Doença diverticular do intestino, de localizaç...</td>\n",
       "      <td>NaN</td>\n",
       "      <td>9</td>\n",
       "    </tr>\n",
       "    <tr>\n",
       "      <th>3</th>\n",
       "      <td>73.0</td>\n",
       "      <td>2</td>\n",
       "      <td>1.0</td>\n",
       "      <td>1.0</td>\n",
       "      <td>1</td>\n",
       "      <td>1.0</td>\n",
       "      <td>2</td>\n",
       "      <td>11.0</td>\n",
       "      <td>1946.0</td>\n",
       "      <td>20</td>\n",
       "      <td>1</td>\n",
       "      <td>2020</td>\n",
       "      <td>MG</td>\n",
       "      <td>111</td>\n",
       "      <td>Insuficiência respiratória aguda</td>\n",
       "      <td>NaN</td>\n",
       "      <td>9</td>\n",
       "    </tr>\n",
       "    <tr>\n",
       "      <th>4</th>\n",
       "      <td>60.0</td>\n",
       "      <td>1</td>\n",
       "      <td>1.0</td>\n",
       "      <td>5.0</td>\n",
       "      <td>1</td>\n",
       "      <td>1.0</td>\n",
       "      <td>12</td>\n",
       "      <td>9.0</td>\n",
       "      <td>1959.0</td>\n",
       "      <td>26</td>\n",
       "      <td>1</td>\n",
       "      <td>2020</td>\n",
       "      <td>MG</td>\n",
       "      <td>3</td>\n",
       "      <td>Septicemia não especificada</td>\n",
       "      <td>Professor da  educação de jovens e adultos do ...</td>\n",
       "      <td>2</td>\n",
       "    </tr>\n",
       "  </tbody>\n",
       "</table>\n",
       "</div>"
      ],
      "text/plain": [
       "   idade  sexo  raca_cor  escolaridade  local_ocorrencia  \\\n",
       "0   68.0     1       1.0           1.0                 3   \n",
       "1   53.0     1       2.0           1.0                 3   \n",
       "2   82.0     2       1.0           1.0                 1   \n",
       "3   73.0     2       1.0           1.0                 1   \n",
       "4   60.0     1       1.0           5.0                 1   \n",
       "\n",
       "   teve_assistencia_medica  dia_nasc  mes_nasc  ano_nasc  dia_obito  \\\n",
       "0                      2.0        10       5.0    1951.0         25   \n",
       "1                      2.0        16       3.0    1966.0         25   \n",
       "2                      NaN        10       7.0    1937.0         14   \n",
       "3                      1.0         2      11.0    1946.0         20   \n",
       "4                      1.0        12       9.0    1959.0         26   \n",
       "\n",
       "   mes_obito  ano_obito estado grupo_causa_basica  \\\n",
       "0          1       2020     MG                201   \n",
       "1          1       2020     MG                201   \n",
       "2          1       2020     MG                117   \n",
       "3          1       2020     MG                111   \n",
       "4          1       2020     MG                  3   \n",
       "\n",
       "                                        causa_basica  \\\n",
       "0  Outras causas mal definidas e as não especific...   \n",
       "1  Outras causas mal definidas e as não especific...   \n",
       "2  Doença diverticular do intestino, de localizaç...   \n",
       "3                   Insuficiência respiratória aguda   \n",
       "4                        Septicemia não especificada   \n",
       "\n",
       "                                            ocupacao grupo_ocupacao  \n",
       "0                                                NaN              9  \n",
       "1                  Trabalhador agropecuário em geral              6  \n",
       "2                                                NaN              9  \n",
       "3                                                NaN              9  \n",
       "4  Professor da  educação de jovens e adultos do ...              2  "
      ]
     },
     "execution_count": 34,
     "metadata": {},
     "output_type": "execute_result"
    }
   ],
   "source": [
    "df_2020.head()"
   ]
  },
  {
   "cell_type": "markdown",
   "id": "402cd496",
   "metadata": {},
   "source": [
    "#### ATRIBUINDO CÓDIGO DOS ESTADOS AS SUAS RESPECTIVAS UFs"
   ]
  },
  {
   "cell_type": "code",
   "execution_count": 35,
   "id": "1b1f9cf0",
   "metadata": {},
   "outputs": [],
   "source": [
    "data_estados = pd.read_csv('../../Downloads/estados_ibge.csv', sep=';', header=0, encoding='latin1')"
   ]
  },
  {
   "cell_type": "code",
   "execution_count": 36,
   "id": "5876fff4",
   "metadata": {},
   "outputs": [
    {
     "data": {
      "text/html": [
       "<div>\n",
       "<style scoped>\n",
       "    .dataframe tbody tr th:only-of-type {\n",
       "        vertical-align: middle;\n",
       "    }\n",
       "\n",
       "    .dataframe tbody tr th {\n",
       "        vertical-align: top;\n",
       "    }\n",
       "\n",
       "    .dataframe thead th {\n",
       "        text-align: right;\n",
       "    }\n",
       "</style>\n",
       "<table border=\"1\" class=\"dataframe\">\n",
       "  <thead>\n",
       "    <tr style=\"text-align: right;\">\n",
       "      <th></th>\n",
       "      <th>CODIGO</th>\n",
       "      <th>UF</th>\n",
       "      <th>ESTADO</th>\n",
       "    </tr>\n",
       "  </thead>\n",
       "  <tbody>\n",
       "    <tr>\n",
       "      <th>0</th>\n",
       "      <td>12</td>\n",
       "      <td>AC</td>\n",
       "      <td>Acre</td>\n",
       "    </tr>\n",
       "    <tr>\n",
       "      <th>1</th>\n",
       "      <td>27</td>\n",
       "      <td>AL</td>\n",
       "      <td>Alagoas</td>\n",
       "    </tr>\n",
       "    <tr>\n",
       "      <th>2</th>\n",
       "      <td>13</td>\n",
       "      <td>AM</td>\n",
       "      <td>Amazonas</td>\n",
       "    </tr>\n",
       "    <tr>\n",
       "      <th>3</th>\n",
       "      <td>16</td>\n",
       "      <td>AP</td>\n",
       "      <td>Amap</td>\n",
       "    </tr>\n",
       "    <tr>\n",
       "      <th>4</th>\n",
       "      <td>29</td>\n",
       "      <td>BA</td>\n",
       "      <td>Bahia</td>\n",
       "    </tr>\n",
       "  </tbody>\n",
       "</table>\n",
       "</div>"
      ],
      "text/plain": [
       "   CODIGO  UF    ESTADO\n",
       "0      12  AC      Acre\n",
       "1      27  AL   Alagoas\n",
       "2      13  AM  Amazonas\n",
       "3      16  AP     Amap \n",
       "4      29  BA     Bahia"
      ]
     },
     "execution_count": 36,
     "metadata": {},
     "output_type": "execute_result"
    }
   ],
   "source": [
    "data_estados.head()"
   ]
  },
  {
   "cell_type": "code",
   "execution_count": 37,
   "id": "d82abdef",
   "metadata": {},
   "outputs": [],
   "source": [
    "uf = pd.Series(data_estados['UF'].astype('str'))\n",
    "uf = uf.values"
   ]
  },
  {
   "cell_type": "code",
   "execution_count": 38,
   "id": "afe117e8",
   "metadata": {},
   "outputs": [],
   "source": [
    "df_2020['estado'] = df_2020['estado'].replace(data_estados['UF'].values, data_estados['CODIGO'].values)"
   ]
  },
  {
   "cell_type": "code",
   "execution_count": 39,
   "id": "8728c0fb",
   "metadata": {},
   "outputs": [
    {
     "data": {
      "text/html": [
       "<div>\n",
       "<style scoped>\n",
       "    .dataframe tbody tr th:only-of-type {\n",
       "        vertical-align: middle;\n",
       "    }\n",
       "\n",
       "    .dataframe tbody tr th {\n",
       "        vertical-align: top;\n",
       "    }\n",
       "\n",
       "    .dataframe thead th {\n",
       "        text-align: right;\n",
       "    }\n",
       "</style>\n",
       "<table border=\"1\" class=\"dataframe\">\n",
       "  <thead>\n",
       "    <tr style=\"text-align: right;\">\n",
       "      <th></th>\n",
       "      <th>idade</th>\n",
       "      <th>sexo</th>\n",
       "      <th>raca_cor</th>\n",
       "      <th>escolaridade</th>\n",
       "      <th>local_ocorrencia</th>\n",
       "      <th>teve_assistencia_medica</th>\n",
       "      <th>dia_nasc</th>\n",
       "      <th>mes_nasc</th>\n",
       "      <th>ano_nasc</th>\n",
       "      <th>dia_obito</th>\n",
       "      <th>mes_obito</th>\n",
       "      <th>ano_obito</th>\n",
       "      <th>estado</th>\n",
       "      <th>grupo_causa_basica</th>\n",
       "      <th>causa_basica</th>\n",
       "      <th>ocupacao</th>\n",
       "      <th>grupo_ocupacao</th>\n",
       "    </tr>\n",
       "  </thead>\n",
       "  <tbody>\n",
       "    <tr>\n",
       "      <th>0</th>\n",
       "      <td>68.0</td>\n",
       "      <td>1</td>\n",
       "      <td>1.0</td>\n",
       "      <td>1.0</td>\n",
       "      <td>3</td>\n",
       "      <td>2.0</td>\n",
       "      <td>10</td>\n",
       "      <td>5.0</td>\n",
       "      <td>1951.0</td>\n",
       "      <td>25</td>\n",
       "      <td>1</td>\n",
       "      <td>2020</td>\n",
       "      <td>31</td>\n",
       "      <td>201</td>\n",
       "      <td>Outras causas mal definidas e as não especific...</td>\n",
       "      <td>NaN</td>\n",
       "      <td>9</td>\n",
       "    </tr>\n",
       "    <tr>\n",
       "      <th>1</th>\n",
       "      <td>53.0</td>\n",
       "      <td>1</td>\n",
       "      <td>2.0</td>\n",
       "      <td>1.0</td>\n",
       "      <td>3</td>\n",
       "      <td>2.0</td>\n",
       "      <td>16</td>\n",
       "      <td>3.0</td>\n",
       "      <td>1966.0</td>\n",
       "      <td>25</td>\n",
       "      <td>1</td>\n",
       "      <td>2020</td>\n",
       "      <td>31</td>\n",
       "      <td>201</td>\n",
       "      <td>Outras causas mal definidas e as não especific...</td>\n",
       "      <td>Trabalhador agropecuário em geral</td>\n",
       "      <td>6</td>\n",
       "    </tr>\n",
       "    <tr>\n",
       "      <th>2</th>\n",
       "      <td>82.0</td>\n",
       "      <td>2</td>\n",
       "      <td>1.0</td>\n",
       "      <td>1.0</td>\n",
       "      <td>1</td>\n",
       "      <td>NaN</td>\n",
       "      <td>10</td>\n",
       "      <td>7.0</td>\n",
       "      <td>1937.0</td>\n",
       "      <td>14</td>\n",
       "      <td>1</td>\n",
       "      <td>2020</td>\n",
       "      <td>31</td>\n",
       "      <td>117</td>\n",
       "      <td>Doença diverticular do intestino, de localizaç...</td>\n",
       "      <td>NaN</td>\n",
       "      <td>9</td>\n",
       "    </tr>\n",
       "    <tr>\n",
       "      <th>3</th>\n",
       "      <td>73.0</td>\n",
       "      <td>2</td>\n",
       "      <td>1.0</td>\n",
       "      <td>1.0</td>\n",
       "      <td>1</td>\n",
       "      <td>1.0</td>\n",
       "      <td>2</td>\n",
       "      <td>11.0</td>\n",
       "      <td>1946.0</td>\n",
       "      <td>20</td>\n",
       "      <td>1</td>\n",
       "      <td>2020</td>\n",
       "      <td>31</td>\n",
       "      <td>111</td>\n",
       "      <td>Insuficiência respiratória aguda</td>\n",
       "      <td>NaN</td>\n",
       "      <td>9</td>\n",
       "    </tr>\n",
       "    <tr>\n",
       "      <th>4</th>\n",
       "      <td>60.0</td>\n",
       "      <td>1</td>\n",
       "      <td>1.0</td>\n",
       "      <td>5.0</td>\n",
       "      <td>1</td>\n",
       "      <td>1.0</td>\n",
       "      <td>12</td>\n",
       "      <td>9.0</td>\n",
       "      <td>1959.0</td>\n",
       "      <td>26</td>\n",
       "      <td>1</td>\n",
       "      <td>2020</td>\n",
       "      <td>31</td>\n",
       "      <td>3</td>\n",
       "      <td>Septicemia não especificada</td>\n",
       "      <td>Professor da  educação de jovens e adultos do ...</td>\n",
       "      <td>2</td>\n",
       "    </tr>\n",
       "  </tbody>\n",
       "</table>\n",
       "</div>"
      ],
      "text/plain": [
       "   idade  sexo  raca_cor  escolaridade  local_ocorrencia  \\\n",
       "0   68.0     1       1.0           1.0                 3   \n",
       "1   53.0     1       2.0           1.0                 3   \n",
       "2   82.0     2       1.0           1.0                 1   \n",
       "3   73.0     2       1.0           1.0                 1   \n",
       "4   60.0     1       1.0           5.0                 1   \n",
       "\n",
       "   teve_assistencia_medica  dia_nasc  mes_nasc  ano_nasc  dia_obito  \\\n",
       "0                      2.0        10       5.0    1951.0         25   \n",
       "1                      2.0        16       3.0    1966.0         25   \n",
       "2                      NaN        10       7.0    1937.0         14   \n",
       "3                      1.0         2      11.0    1946.0         20   \n",
       "4                      1.0        12       9.0    1959.0         26   \n",
       "\n",
       "   mes_obito  ano_obito  estado grupo_causa_basica  \\\n",
       "0          1       2020      31                201   \n",
       "1          1       2020      31                201   \n",
       "2          1       2020      31                117   \n",
       "3          1       2020      31                111   \n",
       "4          1       2020      31                  3   \n",
       "\n",
       "                                        causa_basica  \\\n",
       "0  Outras causas mal definidas e as não especific...   \n",
       "1  Outras causas mal definidas e as não especific...   \n",
       "2  Doença diverticular do intestino, de localizaç...   \n",
       "3                   Insuficiência respiratória aguda   \n",
       "4                        Septicemia não especificada   \n",
       "\n",
       "                                            ocupacao grupo_ocupacao  \n",
       "0                                                NaN              9  \n",
       "1                  Trabalhador agropecuário em geral              6  \n",
       "2                                                NaN              9  \n",
       "3                                                NaN              9  \n",
       "4  Professor da  educação de jovens e adultos do ...              2  "
      ]
     },
     "execution_count": 39,
     "metadata": {},
     "output_type": "execute_result"
    }
   ],
   "source": [
    "df_2020.head()"
   ]
  },
  {
   "cell_type": "code",
   "execution_count": 40,
   "id": "2c7de9ac",
   "metadata": {},
   "outputs": [],
   "source": [
    "df_2020 = df_2020.drop(columns=['causa_basica', 'ocupacao'])"
   ]
  },
  {
   "cell_type": "markdown",
   "id": "68756013",
   "metadata": {},
   "source": [
    "#### SEPRANDO DATASETS"
   ]
  },
  {
   "cell_type": "code",
   "execution_count": 41,
   "id": "557346e3",
   "metadata": {},
   "outputs": [],
   "source": [
    "df_2020 = df_2020[:100]"
   ]
  },
  {
   "cell_type": "code",
   "execution_count": 42,
   "id": "e4a3142a",
   "metadata": {},
   "outputs": [],
   "source": [
    "df_2020 = df_2020.loc[df_2020['grupo_causa_basica'].notnull()]"
   ]
  },
  {
   "cell_type": "code",
   "execution_count": 61,
   "id": "0bcd9c62",
   "metadata": {},
   "outputs": [
    {
     "data": {
      "text/plain": [
       "idade                      0\n",
       "sexo                       0\n",
       "raca_cor                   0\n",
       "escolaridade               0\n",
       "local_ocorrencia           0\n",
       "teve_assistencia_medica    0\n",
       "dia_nasc                   0\n",
       "mes_nasc                   0\n",
       "ano_nasc                   0\n",
       "dia_obito                  0\n",
       "mes_obito                  0\n",
       "ano_obito                  0\n",
       "estado                     0\n",
       "grupo_causa_basica         0\n",
       "grupo_ocupacao             5\n",
       "dtype: int64"
      ]
     },
     "execution_count": 61,
     "metadata": {},
     "output_type": "execute_result"
    }
   ],
   "source": [
    "df_2020.isnull().sum()"
   ]
  },
  {
   "cell_type": "code",
   "execution_count": 44,
   "id": "4ed27f5f",
   "metadata": {},
   "outputs": [],
   "source": [
    "df_2020 = df_2020.loc[df_2020.teve_assistencia_medica.notnull()]"
   ]
  },
  {
   "cell_type": "code",
   "execution_count": 45,
   "id": "877b8a1f",
   "metadata": {},
   "outputs": [],
   "source": [
    "df_2020 = df_2020.loc[df_2020.raca_cor.notnull()]"
   ]
  },
  {
   "cell_type": "code",
   "execution_count": 46,
   "id": "ada42daa",
   "metadata": {},
   "outputs": [],
   "source": [
    "df_2020 = df_2020.loc[df_2020.escolaridade.notnull()]"
   ]
  },
  {
   "cell_type": "code",
   "execution_count": 47,
   "id": "8dff4922",
   "metadata": {},
   "outputs": [],
   "source": [
    "df_2020 = df_2020.loc[df_2020.mes_nasc.notnull()]"
   ]
  },
  {
   "cell_type": "code",
   "execution_count": 48,
   "id": "fe661ee6",
   "metadata": {},
   "outputs": [],
   "source": [
    "df_2020 = df_2020.loc[df_2020.ano_nasc.notnull()]"
   ]
  },
  {
   "cell_type": "code",
   "execution_count": 62,
   "id": "1accff06",
   "metadata": {},
   "outputs": [],
   "source": [
    "df_2020 = df_2020.loc[df_2020.grupo_ocupacao.notnull()]"
   ]
  },
  {
   "cell_type": "code",
   "execution_count": 49,
   "id": "6aa2acb2",
   "metadata": {},
   "outputs": [],
   "source": [
    "df_2020['grupo_causa_basica'] = df_2020['grupo_causa_basica'].astype('float') "
   ]
  },
  {
   "cell_type": "code",
   "execution_count": 50,
   "id": "99163cfd",
   "metadata": {},
   "outputs": [],
   "source": [
    "df_2020['grupo_ocupacao'] = df_2020['grupo_ocupacao'].astype('float') "
   ]
  },
  {
   "cell_type": "code",
   "execution_count": 51,
   "id": "4ee4f7f9",
   "metadata": {},
   "outputs": [
    {
     "data": {
      "text/plain": [
       "0     9.0\n",
       "1     6.0\n",
       "3     9.0\n",
       "4     2.0\n",
       "5     7.0\n",
       "7     9.0\n",
       "8     9.0\n",
       "11    9.0\n",
       "15    9.0\n",
       "16    6.0\n",
       "17    9.0\n",
       "18    6.0\n",
       "19    9.0\n",
       "20    6.0\n",
       "22    9.0\n",
       "30    9.0\n",
       "31    9.0\n",
       "32    9.0\n",
       "33    9.0\n",
       "35    9.0\n",
       "44    7.0\n",
       "45    9.0\n",
       "46    9.0\n",
       "47    9.0\n",
       "49    9.0\n",
       "50    6.0\n",
       "51    6.0\n",
       "60    9.0\n",
       "62    9.0\n",
       "64    9.0\n",
       "67    6.0\n",
       "69    6.0\n",
       "71    9.0\n",
       "76    9.0\n",
       "78    2.0\n",
       "81    7.0\n",
       "92    9.0\n",
       "95    7.0\n",
       "96    7.0\n",
       "97    5.0\n",
       "98    9.0\n",
       "99    5.0\n",
       "Name: grupo_ocupacao, dtype: float64"
      ]
     },
     "execution_count": 51,
     "metadata": {},
     "output_type": "execute_result"
    }
   ],
   "source": [
    "df_2020['grupo_ocupacao'].fillna(df_ocup_grupo.shape[0]-1)"
   ]
  },
  {
   "cell_type": "code",
   "execution_count": 63,
   "id": "3649a0b7",
   "metadata": {},
   "outputs": [],
   "source": [
    "y = df_2020['grupo_causa_basica']"
   ]
  },
  {
   "cell_type": "code",
   "execution_count": 64,
   "id": "77844b45",
   "metadata": {},
   "outputs": [
    {
     "data": {
      "text/plain": [
       "pandas.core.series.Series"
      ]
     },
     "execution_count": 64,
     "metadata": {},
     "output_type": "execute_result"
    }
   ],
   "source": [
    "type(y)"
   ]
  },
  {
   "cell_type": "code",
   "execution_count": 65,
   "id": "3f830308",
   "metadata": {},
   "outputs": [],
   "source": [
    "x = df_2020.drop(columns=['grupo_causa_basica'])"
   ]
  },
  {
   "cell_type": "code",
   "execution_count": 66,
   "id": "93171714",
   "metadata": {},
   "outputs": [],
   "source": [
    "x_train, x_test, y_train, y_test = train_test_split(x, y, test_size = 0.25, random_state = 42)"
   ]
  },
  {
   "cell_type": "code",
   "execution_count": 67,
   "id": "a84e65f3",
   "metadata": {},
   "outputs": [
    {
     "data": {
      "text/plain": [
       "(27, 14)"
      ]
     },
     "execution_count": 67,
     "metadata": {},
     "output_type": "execute_result"
    }
   ],
   "source": [
    "x_train.shape"
   ]
  },
  {
   "cell_type": "code",
   "execution_count": 68,
   "id": "ee377ae5",
   "metadata": {},
   "outputs": [
    {
     "data": {
      "text/plain": [
       "(10,)"
      ]
     },
     "execution_count": 68,
     "metadata": {},
     "output_type": "execute_result"
    }
   ],
   "source": [
    "y_test.shape"
   ]
  },
  {
   "cell_type": "code",
   "execution_count": 69,
   "id": "449a6e96",
   "metadata": {},
   "outputs": [],
   "source": [
    "rf = RandomForestClassifier(n_estimators = 1000, random_state = 42)"
   ]
  },
  {
   "cell_type": "code",
   "execution_count": 70,
   "id": "f8522a12",
   "metadata": {},
   "outputs": [
    {
     "data": {
      "text/plain": [
       "RandomForestClassifier(n_estimators=1000, random_state=42)"
      ]
     },
     "execution_count": 70,
     "metadata": {},
     "output_type": "execute_result"
    }
   ],
   "source": [
    "rf.fit(x_train, y_train)"
   ]
  },
  {
   "cell_type": "code",
   "execution_count": 71,
   "id": "2f10f5b3",
   "metadata": {},
   "outputs": [],
   "source": [
    "preds = rf.predict(x_test)"
   ]
  },
  {
   "cell_type": "code",
   "execution_count": 76,
   "id": "f86e3f52",
   "metadata": {},
   "outputs": [],
   "source": [
    "score = accuracy_score(y_test, preds)"
   ]
  },
  {
   "cell_type": "code",
   "execution_count": 77,
   "id": "7573b18f",
   "metadata": {},
   "outputs": [
    {
     "data": {
      "text/plain": [
       "0.3"
      ]
     },
     "execution_count": 77,
     "metadata": {},
     "output_type": "execute_result"
    }
   ],
   "source": [
    "score"
   ]
  },
  {
   "cell_type": "code",
   "execution_count": 78,
   "id": "fcf70e71",
   "metadata": {},
   "outputs": [],
   "source": [
    "conf_mtrx = confusion_matrix(y_test, preds)"
   ]
  },
  {
   "cell_type": "code",
   "execution_count": 83,
   "id": "56a57795",
   "metadata": {},
   "outputs": [
    {
     "data": {
      "image/png": "[encoded data removed]",
      "text/plain": [
       "<Figure size 720x504 with 2 Axes>"
      ]
     },
     "metadata": {
      "needs_background": "light"
     },
     "output_type": "display_data"
    }
   ],
   "source": [
    "plt.figure(figsize = (10,7))\n",
    "matrix = sns.heatmap(conf_mtrx, annot=True, fmt=\".0f\", linewidths=.5, cmap=\"PiYG\") #Making a Heatmap out of the matrix\n",
    "plt.show()"
   ]
  },
  {
   "cell_type": "code",
   "execution_count": 79,
   "id": "2cf1fa1f",
   "metadata": {},
   "outputs": [
    {
     "name": "stderr",
     "output_type": "stream",
     "text": [
      "C:\\Users\\Acer\\anaconda3\\lib\\site-packages\\sklearn\\metrics\\_classification.py:1245: UndefinedMetricWarning: Precision and F-score are ill-defined and being set to 0.0 in labels with no predicted samples. Use `zero_division` parameter to control this behavior.\n",
      "  _warn_prf(average, modifier, msg_start, len(result))\n",
      "C:\\Users\\Acer\\anaconda3\\lib\\site-packages\\sklearn\\metrics\\_classification.py:1245: UndefinedMetricWarning: Recall and F-score are ill-defined and being set to 0.0 in labels with no true samples. Use `zero_division` parameter to control this behavior.\n",
      "  _warn_prf(average, modifier, msg_start, len(result))\n",
      "C:\\Users\\Acer\\anaconda3\\lib\\site-packages\\sklearn\\metrics\\_classification.py:1245: UndefinedMetricWarning: Precision and F-score are ill-defined and being set to 0.0 in labels with no predicted samples. Use `zero_division` parameter to control this behavior.\n",
      "  _warn_prf(average, modifier, msg_start, len(result))\n",
      "C:\\Users\\Acer\\anaconda3\\lib\\site-packages\\sklearn\\metrics\\_classification.py:1245: UndefinedMetricWarning: Recall and F-score are ill-defined and being set to 0.0 in labels with no true samples. Use `zero_division` parameter to control this behavior.\n",
      "  _warn_prf(average, modifier, msg_start, len(result))\n",
      "C:\\Users\\Acer\\anaconda3\\lib\\site-packages\\sklearn\\metrics\\_classification.py:1245: UndefinedMetricWarning: Precision and F-score are ill-defined and being set to 0.0 in labels with no predicted samples. Use `zero_division` parameter to control this behavior.\n",
      "  _warn_prf(average, modifier, msg_start, len(result))\n",
      "C:\\Users\\Acer\\anaconda3\\lib\\site-packages\\sklearn\\metrics\\_classification.py:1245: UndefinedMetricWarning: Recall and F-score are ill-defined and being set to 0.0 in labels with no true samples. Use `zero_division` parameter to control this behavior.\n",
      "  _warn_prf(average, modifier, msg_start, len(result))\n"
     ]
    }
   ],
   "source": [
    "class_report = classification_report(y_test, preds)"
   ]
  },
  {
   "cell_type": "code",
   "execution_count": 81,
   "id": "2294cfb8",
   "metadata": {},
   "outputs": [
    {
     "name": "stdout",
     "output_type": "stream",
     "text": [
      "              precision    recall  f1-score   support\n",
      "\n",
      "         3.0       0.00      0.00      0.00         1\n",
      "        24.0       0.00      0.00      0.00         0\n",
      "        31.0       0.00      0.00      0.00         0\n",
      "        48.0       0.00      0.00      0.00         0\n",
      "        95.0       0.50      1.00      0.67         1\n",
      "        97.0       0.00      0.00      0.00         1\n",
      "       100.0       0.00      0.00      0.00         0\n",
      "       103.0       0.00      0.00      0.00         0\n",
      "       111.0       0.00      0.00      0.00         1\n",
      "       117.0       0.00      0.00      0.00         1\n",
      "       189.0       0.00      0.00      0.00         0\n",
      "       196.0       0.00      0.00      0.00         1\n",
      "       201.0       1.00      0.50      0.67         4\n",
      "\n",
      "    accuracy                           0.30        10\n",
      "   macro avg       0.12      0.12      0.10        10\n",
      "weighted avg       0.45      0.30      0.33        10\n",
      "\n"
     ]
    }
   ],
   "source": [
    "print(class_report)"
   ]
  },
  {
   "cell_type": "code",
   "execution_count": null,
   "id": "210ffaec",
   "metadata": {},
   "outputs": [],
   "source": []
  }
 ],
 "metadata": {
  "kernelspec": {
   "display_name": "Python 3",
   "language": "python",
   "name": "python3"
  },
  "language_info": {
   "codemirror_mode": {
    "name": "ipython",
    "version": 3
   },
   "file_extension": ".py",
   "mimetype": "text/x-python",
   "name": "python",
   "nbconvert_exporter": "python",
   "pygments_lexer": "ipython3",
   "version": "3.8.8"
  }
 },
 "nbformat": 4,
 "nbformat_minor": 5
}
