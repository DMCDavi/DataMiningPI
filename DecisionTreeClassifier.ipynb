{
 "cells": [
  {
   "cell_type": "markdown",
   "id": "14747c1e",
   "metadata": {},
   "source": [
    "### CONFIGURAÇÕES"
   ]
  },
  {
   "cell_type": "code",
   "execution_count": 1,
   "id": "9151adef",
   "metadata": {},
   "outputs": [],
   "source": [
    "import pandas as pd\n",
    "import seaborn as sns\n",
    "import matplotlib.pyplot as plt\n",
    "import numpy as np\n",
    "from sklearn.ensemble import RandomForestClassifier\n",
    "from sklearn.metrics import accuracy_score, confusion_matrix, classification_report, mean_squared_error\n",
    "from sklearn.model_selection import train_test_split\n",
    "from sklearn.tree import plot_tree, DecisionTreeClassifier, export_graphviz"
   ]
  },
  {
   "cell_type": "code",
   "execution_count": 2,
   "id": "3f4f20a5",
   "metadata": {},
   "outputs": [],
   "source": [
    "pd.set_option('display.max_rows', 1000)\n",
    "pd.set_option('display.max_columns', 500)"
   ]
  },
  {
   "cell_type": "code",
   "execution_count": 3,
   "id": "a65aed18",
   "metadata": {},
   "outputs": [
    {
     "data": {
      "text/plain": [
       "(454432, 17)"
      ]
     },
     "execution_count": 3,
     "metadata": {},
     "output_type": "execute_result"
    }
   ],
   "source": [
    "df_2020 = pd.read_csv('../../dobrano_2020_pre_preprocessado.csv', sep=';', low_memory=False, encoding='latin1')\n",
    "df_2020.shape"
   ]
  },
  {
   "cell_type": "code",
   "execution_count": 4,
   "id": "92d1a459",
   "metadata": {},
   "outputs": [
    {
     "data": {
      "text/html": [
       "<div>\n",
       "<style scoped>\n",
       "    .dataframe tbody tr th:only-of-type {\n",
       "        vertical-align: middle;\n",
       "    }\n",
       "\n",
       "    .dataframe tbody tr th {\n",
       "        vertical-align: top;\n",
       "    }\n",
       "\n",
       "    .dataframe thead th {\n",
       "        text-align: right;\n",
       "    }\n",
       "</style>\n",
       "<table border=\"1\" class=\"dataframe\">\n",
       "  <thead>\n",
       "    <tr style=\"text-align: right;\">\n",
       "      <th></th>\n",
       "      <th>idade</th>\n",
       "      <th>sexo</th>\n",
       "      <th>raca_cor</th>\n",
       "      <th>escolaridade</th>\n",
       "      <th>local_ocorrencia</th>\n",
       "      <th>teve_assistencia_medica</th>\n",
       "      <th>dia_nasc</th>\n",
       "      <th>mes_nasc</th>\n",
       "      <th>ano_nasc</th>\n",
       "      <th>dia_obito</th>\n",
       "      <th>mes_obito</th>\n",
       "      <th>ano_obito</th>\n",
       "      <th>estado</th>\n",
       "      <th>grupo_causa_basica</th>\n",
       "      <th>causa_basica</th>\n",
       "      <th>ocupacao</th>\n",
       "      <th>grupo_ocupacao</th>\n",
       "    </tr>\n",
       "  </thead>\n",
       "  <tbody>\n",
       "    <tr>\n",
       "      <th>0</th>\n",
       "      <td>68.0</td>\n",
       "      <td>M</td>\n",
       "      <td>BRANCA</td>\n",
       "      <td>EF_I</td>\n",
       "      <td>DOMICILIO</td>\n",
       "      <td>NAO</td>\n",
       "      <td>10</td>\n",
       "      <td>5.0</td>\n",
       "      <td>1951.0</td>\n",
       "      <td>25</td>\n",
       "      <td>1</td>\n",
       "      <td>2020</td>\n",
       "      <td>MG</td>\n",
       "      <td>Causas mal definidas e desconhecidas de mortal...</td>\n",
       "      <td>Outras causas mal definidas e as não especific...</td>\n",
       "      <td>NaN</td>\n",
       "      <td>TRABALHADORES EM SERVIÇOS DE REPARAÇÃO E MANUT...</td>\n",
       "    </tr>\n",
       "    <tr>\n",
       "      <th>1</th>\n",
       "      <td>53.0</td>\n",
       "      <td>M</td>\n",
       "      <td>PRETA</td>\n",
       "      <td>EF_I</td>\n",
       "      <td>DOMICILIO</td>\n",
       "      <td>NAO</td>\n",
       "      <td>16</td>\n",
       "      <td>3.0</td>\n",
       "      <td>1966.0</td>\n",
       "      <td>25</td>\n",
       "      <td>1</td>\n",
       "      <td>2020</td>\n",
       "      <td>MG</td>\n",
       "      <td>Causas mal definidas e desconhecidas de mortal...</td>\n",
       "      <td>Outras causas mal definidas e as não especific...</td>\n",
       "      <td>Trabalhador agropecuário em geral</td>\n",
       "      <td>TRABALHADORES AGROPECUÁRIOS, FLORESTAIS E DA P...</td>\n",
       "    </tr>\n",
       "    <tr>\n",
       "      <th>2</th>\n",
       "      <td>82.0</td>\n",
       "      <td>F</td>\n",
       "      <td>BRANCA</td>\n",
       "      <td>EF_I</td>\n",
       "      <td>HOSPITAL</td>\n",
       "      <td>NaN</td>\n",
       "      <td>10</td>\n",
       "      <td>7.0</td>\n",
       "      <td>1937.0</td>\n",
       "      <td>14</td>\n",
       "      <td>1</td>\n",
       "      <td>2020</td>\n",
       "      <td>MG</td>\n",
       "      <td>Outras doenças dos intestinos</td>\n",
       "      <td>Doença diverticular do intestino, de localizaç...</td>\n",
       "      <td>NaN</td>\n",
       "      <td>TRABALHADORES EM SERVIÇOS DE REPARAÇÃO E MANUT...</td>\n",
       "    </tr>\n",
       "    <tr>\n",
       "      <th>3</th>\n",
       "      <td>73.0</td>\n",
       "      <td>F</td>\n",
       "      <td>BRANCA</td>\n",
       "      <td>EF_I</td>\n",
       "      <td>HOSPITAL</td>\n",
       "      <td>SIM</td>\n",
       "      <td>2</td>\n",
       "      <td>11.0</td>\n",
       "      <td>1946.0</td>\n",
       "      <td>20</td>\n",
       "      <td>1</td>\n",
       "      <td>2020</td>\n",
       "      <td>MG</td>\n",
       "      <td>Outras doenças do aparelho respiratório</td>\n",
       "      <td>Insuficiência respiratória aguda</td>\n",
       "      <td>NaN</td>\n",
       "      <td>TRABALHADORES EM SERVIÇOS DE REPARAÇÃO E MANUT...</td>\n",
       "    </tr>\n",
       "    <tr>\n",
       "      <th>4</th>\n",
       "      <td>60.0</td>\n",
       "      <td>M</td>\n",
       "      <td>BRANCA</td>\n",
       "      <td>SUPERIOR_C</td>\n",
       "      <td>HOSPITAL</td>\n",
       "      <td>SIM</td>\n",
       "      <td>12</td>\n",
       "      <td>9.0</td>\n",
       "      <td>1959.0</td>\n",
       "      <td>26</td>\n",
       "      <td>1</td>\n",
       "      <td>2020</td>\n",
       "      <td>MG</td>\n",
       "      <td>Outras doenças bacterianas</td>\n",
       "      <td>Septicemia não especificada</td>\n",
       "      <td>Professor da  educação de jovens e adultos do ...</td>\n",
       "      <td>PROFISSIONAIS DAS CIÊNCIAS E DAS ARTES        ...</td>\n",
       "    </tr>\n",
       "  </tbody>\n",
       "</table>\n",
       "</div>"
      ],
      "text/plain": [
       "   idade sexo raca_cor escolaridade local_ocorrencia teve_assistencia_medica  \\\n",
       "0   68.0    M   BRANCA         EF_I        DOMICILIO                     NAO   \n",
       "1   53.0    M    PRETA         EF_I        DOMICILIO                     NAO   \n",
       "2   82.0    F   BRANCA         EF_I         HOSPITAL                     NaN   \n",
       "3   73.0    F   BRANCA         EF_I         HOSPITAL                     SIM   \n",
       "4   60.0    M   BRANCA   SUPERIOR_C         HOSPITAL                     SIM   \n",
       "\n",
       "   dia_nasc  mes_nasc  ano_nasc  dia_obito  mes_obito  ano_obito estado  \\\n",
       "0        10       5.0    1951.0         25          1       2020     MG   \n",
       "1        16       3.0    1966.0         25          1       2020     MG   \n",
       "2        10       7.0    1937.0         14          1       2020     MG   \n",
       "3         2      11.0    1946.0         20          1       2020     MG   \n",
       "4        12       9.0    1959.0         26          1       2020     MG   \n",
       "\n",
       "                                  grupo_causa_basica  \\\n",
       "0  Causas mal definidas e desconhecidas de mortal...   \n",
       "1  Causas mal definidas e desconhecidas de mortal...   \n",
       "2                      Outras doenças dos intestinos   \n",
       "3            Outras doenças do aparelho respiratório   \n",
       "4                         Outras doenças bacterianas   \n",
       "\n",
       "                                        causa_basica  \\\n",
       "0  Outras causas mal definidas e as não especific...   \n",
       "1  Outras causas mal definidas e as não especific...   \n",
       "2  Doença diverticular do intestino, de localizaç...   \n",
       "3                   Insuficiência respiratória aguda   \n",
       "4                        Septicemia não especificada   \n",
       "\n",
       "                                            ocupacao  \\\n",
       "0                                                NaN   \n",
       "1                  Trabalhador agropecuário em geral   \n",
       "2                                                NaN   \n",
       "3                                                NaN   \n",
       "4  Professor da  educação de jovens e adultos do ...   \n",
       "\n",
       "                                      grupo_ocupacao  \n",
       "0  TRABALHADORES EM SERVIÇOS DE REPARAÇÃO E MANUT...  \n",
       "1  TRABALHADORES AGROPECUÁRIOS, FLORESTAIS E DA P...  \n",
       "2  TRABALHADORES EM SERVIÇOS DE REPARAÇÃO E MANUT...  \n",
       "3  TRABALHADORES EM SERVIÇOS DE REPARAÇÃO E MANUT...  \n",
       "4  PROFISSIONAIS DAS CIÊNCIAS E DAS ARTES        ...  "
      ]
     },
     "execution_count": 4,
     "metadata": {},
     "output_type": "execute_result"
    }
   ],
   "source": [
    "df_2020.head()"
   ]
  },
  {
   "cell_type": "code",
   "execution_count": 5,
   "id": "ae7d263e",
   "metadata": {},
   "outputs": [
    {
     "data": {
      "text/plain": [
       "idade                           0\n",
       "sexo                            0\n",
       "raca_cor                    22294\n",
       "escolaridade                45280\n",
       "local_ocorrencia                0\n",
       "teve_assistencia_medica    147393\n",
       "dia_nasc                        0\n",
       "mes_nasc                    10319\n",
       "ano_nasc                    10319\n",
       "dia_obito                       0\n",
       "mes_obito                       0\n",
       "ano_obito                       0\n",
       "estado                          0\n",
       "grupo_causa_basica         113434\n",
       "causa_basica                    0\n",
       "ocupacao                   287875\n",
       "grupo_ocupacao              80199\n",
       "dtype: int64"
      ]
     },
     "execution_count": 5,
     "metadata": {},
     "output_type": "execute_result"
    }
   ],
   "source": [
    "df_2020.isnull().sum()"
   ]
  },
  {
   "cell_type": "markdown",
   "id": "669329bb",
   "metadata": {},
   "source": [
    "#### REPREPROCESSAMENTO"
   ]
  },
  {
   "cell_type": "code",
   "execution_count": 6,
   "id": "78419d24",
   "metadata": {},
   "outputs": [],
   "source": [
    "df_2020 = df_2020.loc[df_2020['grupo_causa_basica'].notnull()]"
   ]
  },
  {
   "cell_type": "code",
   "execution_count": 7,
   "id": "8f4900a9",
   "metadata": {},
   "outputs": [],
   "source": [
    "df_2020 = df_2020.drop(columns=['dia_nasc', 'mes_nasc', 'ano_nasc', 'ocupacao', 'dia_obito'])"
   ]
  },
  {
   "cell_type": "code",
   "execution_count": 8,
   "id": "361fbd0c",
   "metadata": {},
   "outputs": [],
   "source": [
    "df_2020 = df_2020.loc[df_2020['raca_cor'].notnull()]"
   ]
  },
  {
   "cell_type": "code",
   "execution_count": 9,
   "id": "7bcc6d98",
   "metadata": {},
   "outputs": [],
   "source": [
    "df_2020 = df_2020.loc[df_2020['teve_assistencia_medica'].notnull()]"
   ]
  },
  {
   "cell_type": "code",
   "execution_count": 10,
   "id": "ec63833d",
   "metadata": {},
   "outputs": [],
   "source": [
    "df_2020 = df_2020.loc[df_2020['escolaridade'].notnull()]"
   ]
  },
  {
   "cell_type": "code",
   "execution_count": 11,
   "id": "de79a511",
   "metadata": {},
   "outputs": [
    {
     "data": {
      "text/plain": [
       "0         TRABALHADORES EM SERVIÇOS DE REPARAÇÃO E MANUT...\n",
       "1         TRABALHADORES AGROPECUÁRIOS, FLORESTAIS E DA P...\n",
       "3         TRABALHADORES EM SERVIÇOS DE REPARAÇÃO E MANUT...\n",
       "4         PROFISSIONAIS DAS CIÊNCIAS E DAS ARTES        ...\n",
       "5         TRABALHADORES DA PRODUÇÃO DE BENS E SERVIÇOS I...\n",
       "                                ...                        \n",
       "454424    TRABALHADORES AGROPECUÁRIOS, FLORESTAIS E DA P...\n",
       "454428    TRABALHADORES EM SERVIÇOS DE REPARAÇÃO E MANUT...\n",
       "454429    TRABALHADORES EM SERVIÇOS DE REPARAÇÃO E MANUT...\n",
       "454430    TRABALHADORES DA PRODUÇÃO DE BENS E SERVIÇOS I...\n",
       "454431    TRABALHADORES AGROPECUÁRIOS, FLORESTAIS E DA P...\n",
       "Name: grupo_ocupacao, Length: 204551, dtype: object"
      ]
     },
     "execution_count": 11,
     "metadata": {},
     "output_type": "execute_result"
    }
   ],
   "source": [
    "df_2020['grupo_ocupacao'].fillna('SEM OCUPAÇÃO')"
   ]
  },
  {
   "cell_type": "code",
   "execution_count": 12,
   "id": "c9180d46",
   "metadata": {},
   "outputs": [
    {
     "data": {
      "text/plain": [
       "(204551, 12)"
      ]
     },
     "execution_count": 12,
     "metadata": {},
     "output_type": "execute_result"
    }
   ],
   "source": [
    "df_2020.shape"
   ]
  },
  {
   "cell_type": "code",
   "execution_count": 13,
   "id": "61c4ddfb",
   "metadata": {},
   "outputs": [],
   "source": [
    "df = df_2020[:150000]"
   ]
  },
  {
   "cell_type": "markdown",
   "id": "2216229f",
   "metadata": {},
   "source": [
    "#### OneHotEncoder"
   ]
  },
  {
   "cell_type": "code",
   "execution_count": 14,
   "id": "bd9a4aae",
   "metadata": {},
   "outputs": [],
   "source": [
    "from sklearn.preprocessing import OneHotEncoder\n",
    "from sklearn import metrics"
   ]
  },
  {
   "cell_type": "code",
   "execution_count": null,
   "id": "a1f7bbdb",
   "metadata": {},
   "outputs": [],
   "source": [
    "enc = OneHotEncoder()"
   ]
  },
  {
   "cell_type": "code",
   "execution_count": 50,
   "id": "628d6285",
   "metadata": {},
   "outputs": [
    {
     "data": {
      "text/plain": [
       "OneHotEncoder()"
      ]
     },
     "execution_count": 50,
     "metadata": {},
     "output_type": "execute_result"
    }
   ],
   "source": [
    "enc.fit(df)"
   ]
  },
  {
   "cell_type": "code",
   "execution_count": 15,
   "id": "ad11ea76",
   "metadata": {},
   "outputs": [],
   "source": [
    "x = pd.get_dummies(df.drop(columns=['grupo_causa_basica']),drop_first=True)"
   ]
  },
  {
   "cell_type": "markdown",
   "id": "fed70aa3",
   "metadata": {},
   "source": [
    "#### Separando treino e teste"
   ]
  },
  {
   "cell_type": "code",
   "execution_count": 16,
   "id": "4268db48",
   "metadata": {},
   "outputs": [],
   "source": [
    "y = df['grupo_causa_basica']"
   ]
  },
  {
   "cell_type": "code",
   "execution_count": 17,
   "id": "ce233eee",
   "metadata": {},
   "outputs": [],
   "source": [
    "x_train, x_test, y_train, y_test = train_test_split(x, y, test_size = 0.3, random_state = 42)"
   ]
  },
  {
   "cell_type": "markdown",
   "id": "cd8cd387",
   "metadata": {},
   "source": [
    "#### DecisionTreeClassifier"
   ]
  },
  {
   "cell_type": "code",
   "execution_count": 18,
   "id": "b809aead",
   "metadata": {},
   "outputs": [],
   "source": [
    "clf = DecisionTreeClassifier(criterion='entropy', max_depth=90, min_samples_leaf=5, random_state = 100)"
   ]
  },
  {
   "cell_type": "code",
   "execution_count": 19,
   "id": "2b9e2a13",
   "metadata": {
    "scrolled": true
   },
   "outputs": [
    {
     "data": {
      "text/plain": [
       "DecisionTreeClassifier(criterion='entropy', max_depth=90, min_samples_leaf=5,\n",
       "                       random_state=100)"
      ]
     },
     "execution_count": 19,
     "metadata": {},
     "output_type": "execute_result"
    }
   ],
   "source": [
    "clf.fit(x_train, y_train)"
   ]
  },
  {
   "cell_type": "code",
   "execution_count": 20,
   "id": "cde0fbb7",
   "metadata": {},
   "outputs": [],
   "source": [
    "y_pred = clf.predict(x_test)"
   ]
  },
  {
   "cell_type": "code",
   "execution_count": 21,
   "id": "074eaf06",
   "metadata": {},
   "outputs": [],
   "source": [
    "score = accuracy_score(y_test, y_pred)"
   ]
  },
  {
   "cell_type": "code",
   "execution_count": 22,
   "id": "c4076936",
   "metadata": {},
   "outputs": [
    {
     "name": "stdout",
     "output_type": "stream",
     "text": [
      "0.7010666666666666\n"
     ]
    }
   ],
   "source": [
    "print(score)"
   ]
  },
  {
   "cell_type": "markdown",
   "id": "126a3a54",
   "metadata": {},
   "source": [
    "#### Plotando Árvore"
   ]
  },
  {
   "cell_type": "code",
   "execution_count": 143,
   "id": "a9d8dea4",
   "metadata": {},
   "outputs": [
    {
     "name": "stdout",
     "output_type": "stream",
     "text": [
      "Requirement already satisfied: pyparsing in c:\\users\\acer\\anaconda3\\envs\\trabalhosoussa\\lib\\site-packages (2.4.7)\n"
     ]
    }
   ],
   "source": [
    "!pip install pyparsing"
   ]
  },
  {
   "cell_type": "code",
   "execution_count": 145,
   "id": "8a8827c0",
   "metadata": {},
   "outputs": [
    {
     "name": "stdout",
     "output_type": "stream",
     "text": [
      "Requirement already satisfied: pydotplus in c:\\users\\acer\\anaconda3\\envs\\trabalhosoussa\\lib\\site-packages (2.0.2)\n",
      "Requirement already satisfied: pyparsing>=2.0.1 in c:\\users\\acer\\anaconda3\\envs\\trabalhosoussa\\lib\\site-packages (from pydotplus) (2.4.7)\n"
     ]
    }
   ],
   "source": [
    "!pip install pydotplus"
   ]
  },
  {
   "cell_type": "code",
   "execution_count": 23,
   "id": "71ae3f8d",
   "metadata": {},
   "outputs": [
    {
     "ename": "ModuleNotFoundError",
     "evalue": "No module named 'pydotplus'",
     "output_type": "error",
     "traceback": [
      "\u001b[1;31m---------------------------------------------------------------------------\u001b[0m",
      "\u001b[1;31mModuleNotFoundError\u001b[0m                       Traceback (most recent call last)",
      "\u001b[1;32m<ipython-input-23-84bfcb64783a>\u001b[0m in \u001b[0;36m<module>\u001b[1;34m\u001b[0m\n\u001b[0;32m      2\u001b[0m \u001b[1;32mfrom\u001b[0m \u001b[0mIPython\u001b[0m\u001b[1;33m.\u001b[0m\u001b[0mdisplay\u001b[0m \u001b[1;32mimport\u001b[0m \u001b[0mImage\u001b[0m\u001b[1;33m\u001b[0m\u001b[1;33m\u001b[0m\u001b[0m\n\u001b[0;32m      3\u001b[0m \u001b[1;32mfrom\u001b[0m \u001b[0msklearn\u001b[0m\u001b[1;33m.\u001b[0m\u001b[0mtree\u001b[0m \u001b[1;32mimport\u001b[0m \u001b[0mexport_graphviz\u001b[0m\u001b[1;33m\u001b[0m\u001b[1;33m\u001b[0m\u001b[0m\n\u001b[1;32m----> 4\u001b[1;33m \u001b[1;32mfrom\u001b[0m \u001b[0mpydotplus\u001b[0m \u001b[1;32mimport\u001b[0m \u001b[0mgraph_from_dot_data\u001b[0m\u001b[1;33m\u001b[0m\u001b[1;33m\u001b[0m\u001b[0m\n\u001b[0m",
      "\u001b[1;31mModuleNotFoundError\u001b[0m: No module named 'pydotplus'"
     ]
    }
   ],
   "source": [
    "from six import StringIO  \n",
    "from IPython.display import Image  \n",
    "from sklearn.tree import export_graphviz\n",
    "from pydotplus import graph_from_dot_data"
   ]
  },
  {
   "cell_type": "code",
   "execution_count": null,
   "id": "4e2bbe9a",
   "metadata": {},
   "outputs": [],
   "source": [
    "dot_data = StringIO()\n",
    "export_graphviz(clf, out_file=dot_data,  \n",
    "                filled=True, rounded=True,\n",
    "                special_characters=True, feature_names = feature_cols,class_names=['0','1'])\n",
    "graph = pydotplus.graph_from_dot_data(dot_data.getvalue())  \n",
    "graph.write_png('diabetes.png')\n",
    "Image(graph.create_png())"
   ]
  },
  {
   "cell_type": "code",
   "execution_count": 95,
   "id": "60e12c07",
   "metadata": {},
   "outputs": [
    {
     "ename": "RecursionError",
     "evalue": "maximum recursion depth exceeded while calling a Python object",
     "output_type": "error",
     "traceback": [
      "\u001b[1;31m---------------------------------------------------------------------------\u001b[0m",
      "\u001b[1;31mRecursionError\u001b[0m                            Traceback (most recent call last)",
      "\u001b[1;32m<ipython-input-95-a03f0ce8b275>\u001b[0m in \u001b[0;36m<module>\u001b[1;34m\u001b[0m\n\u001b[0;32m      1\u001b[0m \u001b[0mfig\u001b[0m \u001b[1;33m=\u001b[0m \u001b[0mplt\u001b[0m\u001b[1;33m.\u001b[0m\u001b[0mfigure\u001b[0m\u001b[1;33m(\u001b[0m\u001b[0mfigsize\u001b[0m\u001b[1;33m=\u001b[0m\u001b[1;33m(\u001b[0m\u001b[1;36m25\u001b[0m\u001b[1;33m,\u001b[0m \u001b[1;36m20\u001b[0m\u001b[1;33m)\u001b[0m\u001b[1;33m)\u001b[0m\u001b[1;33m\u001b[0m\u001b[1;33m\u001b[0m\u001b[0m\n\u001b[1;32m----> 2\u001b[1;33m \u001b[0mplot_tree\u001b[0m\u001b[1;33m(\u001b[0m\u001b[0mclf\u001b[0m\u001b[1;33m)\u001b[0m\u001b[1;33m\u001b[0m\u001b[1;33m\u001b[0m\u001b[0m\n\u001b[0m",
      "\u001b[1;32m~\\anaconda3\\lib\\site-packages\\sklearn\\utils\\validation.py\u001b[0m in \u001b[0;36minner_f\u001b[1;34m(*args, **kwargs)\u001b[0m\n\u001b[0;32m     61\u001b[0m             \u001b[0mextra_args\u001b[0m \u001b[1;33m=\u001b[0m \u001b[0mlen\u001b[0m\u001b[1;33m(\u001b[0m\u001b[0margs\u001b[0m\u001b[1;33m)\u001b[0m \u001b[1;33m-\u001b[0m \u001b[0mlen\u001b[0m\u001b[1;33m(\u001b[0m\u001b[0mall_args\u001b[0m\u001b[1;33m)\u001b[0m\u001b[1;33m\u001b[0m\u001b[1;33m\u001b[0m\u001b[0m\n\u001b[0;32m     62\u001b[0m             \u001b[1;32mif\u001b[0m \u001b[0mextra_args\u001b[0m \u001b[1;33m<=\u001b[0m \u001b[1;36m0\u001b[0m\u001b[1;33m:\u001b[0m\u001b[1;33m\u001b[0m\u001b[1;33m\u001b[0m\u001b[0m\n\u001b[1;32m---> 63\u001b[1;33m                 \u001b[1;32mreturn\u001b[0m \u001b[0mf\u001b[0m\u001b[1;33m(\u001b[0m\u001b[1;33m*\u001b[0m\u001b[0margs\u001b[0m\u001b[1;33m,\u001b[0m \u001b[1;33m**\u001b[0m\u001b[0mkwargs\u001b[0m\u001b[1;33m)\u001b[0m\u001b[1;33m\u001b[0m\u001b[1;33m\u001b[0m\u001b[0m\n\u001b[0m\u001b[0;32m     64\u001b[0m \u001b[1;33m\u001b[0m\u001b[0m\n\u001b[0;32m     65\u001b[0m             \u001b[1;31m# extra_args > 0\u001b[0m\u001b[1;33m\u001b[0m\u001b[1;33m\u001b[0m\u001b[1;33m\u001b[0m\u001b[0m\n",
      "\u001b[1;32m~\\anaconda3\\lib\\site-packages\\sklearn\\tree\\_export.py\u001b[0m in \u001b[0;36mplot_tree\u001b[1;34m(decision_tree, max_depth, feature_names, class_names, label, filled, impurity, node_ids, proportion, rotate, rounded, precision, ax, fontsize)\u001b[0m\n\u001b[0;32m    192\u001b[0m         \u001b[0mproportion\u001b[0m\u001b[1;33m=\u001b[0m\u001b[0mproportion\u001b[0m\u001b[1;33m,\u001b[0m \u001b[0mrotate\u001b[0m\u001b[1;33m=\u001b[0m\u001b[0mrotate\u001b[0m\u001b[1;33m,\u001b[0m \u001b[0mrounded\u001b[0m\u001b[1;33m=\u001b[0m\u001b[0mrounded\u001b[0m\u001b[1;33m,\u001b[0m\u001b[1;33m\u001b[0m\u001b[1;33m\u001b[0m\u001b[0m\n\u001b[0;32m    193\u001b[0m         precision=precision, fontsize=fontsize)\n\u001b[1;32m--> 194\u001b[1;33m     \u001b[1;32mreturn\u001b[0m \u001b[0mexporter\u001b[0m\u001b[1;33m.\u001b[0m\u001b[0mexport\u001b[0m\u001b[1;33m(\u001b[0m\u001b[0mdecision_tree\u001b[0m\u001b[1;33m,\u001b[0m \u001b[0max\u001b[0m\u001b[1;33m=\u001b[0m\u001b[0max\u001b[0m\u001b[1;33m)\u001b[0m\u001b[1;33m\u001b[0m\u001b[1;33m\u001b[0m\u001b[0m\n\u001b[0m\u001b[0;32m    195\u001b[0m \u001b[1;33m\u001b[0m\u001b[0m\n\u001b[0;32m    196\u001b[0m \u001b[1;33m\u001b[0m\u001b[0m\n",
      "\u001b[1;32m~\\anaconda3\\lib\\site-packages\\sklearn\\tree\\_export.py\u001b[0m in \u001b[0;36mexport\u001b[1;34m(self, decision_tree, ax)\u001b[0m\n\u001b[0;32m    584\u001b[0m         my_tree = self._make_tree(0, decision_tree.tree_,\n\u001b[0;32m    585\u001b[0m                                   decision_tree.criterion)\n\u001b[1;32m--> 586\u001b[1;33m         \u001b[0mdraw_tree\u001b[0m \u001b[1;33m=\u001b[0m \u001b[0mbuchheim\u001b[0m\u001b[1;33m(\u001b[0m\u001b[0mmy_tree\u001b[0m\u001b[1;33m)\u001b[0m\u001b[1;33m\u001b[0m\u001b[1;33m\u001b[0m\u001b[0m\n\u001b[0m\u001b[0;32m    587\u001b[0m \u001b[1;33m\u001b[0m\u001b[0m\n\u001b[0;32m    588\u001b[0m         \u001b[1;31m# important to make sure we're still\u001b[0m\u001b[1;33m\u001b[0m\u001b[1;33m\u001b[0m\u001b[1;33m\u001b[0m\u001b[0m\n",
      "\u001b[1;32m~\\anaconda3\\lib\\site-packages\\sklearn\\tree\\_reingold_tilford.py\u001b[0m in \u001b[0;36mbuchheim\u001b[1;34m(tree)\u001b[0m\n\u001b[0;32m     58\u001b[0m \u001b[1;33m\u001b[0m\u001b[0m\n\u001b[0;32m     59\u001b[0m \u001b[1;32mdef\u001b[0m \u001b[0mbuchheim\u001b[0m\u001b[1;33m(\u001b[0m\u001b[0mtree\u001b[0m\u001b[1;33m)\u001b[0m\u001b[1;33m:\u001b[0m\u001b[1;33m\u001b[0m\u001b[1;33m\u001b[0m\u001b[0m\n\u001b[1;32m---> 60\u001b[1;33m     \u001b[0mdt\u001b[0m \u001b[1;33m=\u001b[0m \u001b[0mfirst_walk\u001b[0m\u001b[1;33m(\u001b[0m\u001b[0mDrawTree\u001b[0m\u001b[1;33m(\u001b[0m\u001b[0mtree\u001b[0m\u001b[1;33m)\u001b[0m\u001b[1;33m)\u001b[0m\u001b[1;33m\u001b[0m\u001b[1;33m\u001b[0m\u001b[0m\n\u001b[0m\u001b[0;32m     61\u001b[0m     \u001b[0mmin\u001b[0m \u001b[1;33m=\u001b[0m \u001b[0msecond_walk\u001b[0m\u001b[1;33m(\u001b[0m\u001b[0mdt\u001b[0m\u001b[1;33m)\u001b[0m\u001b[1;33m\u001b[0m\u001b[1;33m\u001b[0m\u001b[0m\n\u001b[0;32m     62\u001b[0m     \u001b[1;32mif\u001b[0m \u001b[0mmin\u001b[0m \u001b[1;33m<\u001b[0m \u001b[1;36m0\u001b[0m\u001b[1;33m:\u001b[0m\u001b[1;33m\u001b[0m\u001b[1;33m\u001b[0m\u001b[0m\n",
      "\u001b[1;32m~\\anaconda3\\lib\\site-packages\\sklearn\\tree\\_reingold_tilford.py\u001b[0m in \u001b[0;36m__init__\u001b[1;34m(self, tree, parent, depth, number)\u001b[0m\n\u001b[0;32m     10\u001b[0m         \u001b[0mself\u001b[0m\u001b[1;33m.\u001b[0m\u001b[0my\u001b[0m \u001b[1;33m=\u001b[0m \u001b[0mdepth\u001b[0m\u001b[1;33m\u001b[0m\u001b[1;33m\u001b[0m\u001b[0m\n\u001b[0;32m     11\u001b[0m         \u001b[0mself\u001b[0m\u001b[1;33m.\u001b[0m\u001b[0mtree\u001b[0m \u001b[1;33m=\u001b[0m \u001b[0mtree\u001b[0m\u001b[1;33m\u001b[0m\u001b[1;33m\u001b[0m\u001b[0m\n\u001b[1;32m---> 12\u001b[1;33m         self.children = [DrawTree(c, self, depth + 1, i + 1)\n\u001b[0m\u001b[0;32m     13\u001b[0m                          \u001b[1;32mfor\u001b[0m \u001b[0mi\u001b[0m\u001b[1;33m,\u001b[0m \u001b[0mc\u001b[0m\u001b[1;33m\u001b[0m\u001b[1;33m\u001b[0m\u001b[0m\n\u001b[0;32m     14\u001b[0m                          in enumerate(tree.children)]\n",
      "\u001b[1;32m~\\anaconda3\\lib\\site-packages\\sklearn\\tree\\_reingold_tilford.py\u001b[0m in \u001b[0;36m<listcomp>\u001b[1;34m(.0)\u001b[0m\n\u001b[0;32m     10\u001b[0m         \u001b[0mself\u001b[0m\u001b[1;33m.\u001b[0m\u001b[0my\u001b[0m \u001b[1;33m=\u001b[0m \u001b[0mdepth\u001b[0m\u001b[1;33m\u001b[0m\u001b[1;33m\u001b[0m\u001b[0m\n\u001b[0;32m     11\u001b[0m         \u001b[0mself\u001b[0m\u001b[1;33m.\u001b[0m\u001b[0mtree\u001b[0m \u001b[1;33m=\u001b[0m \u001b[0mtree\u001b[0m\u001b[1;33m\u001b[0m\u001b[1;33m\u001b[0m\u001b[0m\n\u001b[1;32m---> 12\u001b[1;33m         self.children = [DrawTree(c, self, depth + 1, i + 1)\n\u001b[0m\u001b[0;32m     13\u001b[0m                          \u001b[1;32mfor\u001b[0m \u001b[0mi\u001b[0m\u001b[1;33m,\u001b[0m \u001b[0mc\u001b[0m\u001b[1;33m\u001b[0m\u001b[1;33m\u001b[0m\u001b[0m\n\u001b[0;32m     14\u001b[0m                          in enumerate(tree.children)]\n",
      "... last 2 frames repeated, from the frame below ...\n",
      "\u001b[1;32m~\\anaconda3\\lib\\site-packages\\sklearn\\tree\\_reingold_tilford.py\u001b[0m in \u001b[0;36m__init__\u001b[1;34m(self, tree, parent, depth, number)\u001b[0m\n\u001b[0;32m     10\u001b[0m         \u001b[0mself\u001b[0m\u001b[1;33m.\u001b[0m\u001b[0my\u001b[0m \u001b[1;33m=\u001b[0m \u001b[0mdepth\u001b[0m\u001b[1;33m\u001b[0m\u001b[1;33m\u001b[0m\u001b[0m\n\u001b[0;32m     11\u001b[0m         \u001b[0mself\u001b[0m\u001b[1;33m.\u001b[0m\u001b[0mtree\u001b[0m \u001b[1;33m=\u001b[0m \u001b[0mtree\u001b[0m\u001b[1;33m\u001b[0m\u001b[1;33m\u001b[0m\u001b[0m\n\u001b[1;32m---> 12\u001b[1;33m         self.children = [DrawTree(c, self, depth + 1, i + 1)\n\u001b[0m\u001b[0;32m     13\u001b[0m                          \u001b[1;32mfor\u001b[0m \u001b[0mi\u001b[0m\u001b[1;33m,\u001b[0m \u001b[0mc\u001b[0m\u001b[1;33m\u001b[0m\u001b[1;33m\u001b[0m\u001b[0m\n\u001b[0;32m     14\u001b[0m                          in enumerate(tree.children)]\n",
      "\u001b[1;31mRecursionError\u001b[0m: maximum recursion depth exceeded while calling a Python object"
     ]
    },
    {
     "data": {
      "image/png": "[encoded data removed]",
      "text/plain": [
       "<Figure size 1800x1440 with 1 Axes>"
      ]
     },
     "metadata": {
      "needs_background": "light"
     },
     "output_type": "display_data"
    }
   ],
   "source": [
    "fig = plt.figure(figsize=(25, 20))\n",
    "plot_tree(clf)"
   ]
  },
  {
   "cell_type": "code",
   "execution_count": null,
   "id": "b7a8cabb",
   "metadata": {},
   "outputs": [],
   "source": []
  }
 ],
 "metadata": {
  "kernelspec": {
   "display_name": "Python 3",
   "language": "python",
   "name": "python3"
  },
  "language_info": {
   "codemirror_mode": {
    "name": "ipython",
    "version": 3
   },
   "file_extension": ".py",
   "mimetype": "text/x-python",
   "name": "python",
   "nbconvert_exporter": "python",
   "pygments_lexer": "ipython3",
   "version": "3.8.8"
  }
 },
 "nbformat": 4,
 "nbformat_minor": 5
}
